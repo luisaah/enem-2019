{
  "nbformat": 4,
  "nbformat_minor": 0,
  "metadata": {
    "colab": {
      "name": "Desafio | Imersão Dados Alura.ipynb",
      "provenance": [],
      "collapsed_sections": [
        "-NPWZGO6bSSK"
      ]
    },
    "kernelspec": {
      "name": "python3",
      "display_name": "Python 3"
    }
  },
  "cells": [
    {
      "cell_type": "markdown",
      "metadata": {
        "id": "X6fuFqzsa4l6"
      },
      "source": [
        "Olá! 😊\n",
        "\n",
        "Esse notebook foi criado para submissão no desafio da Imersão Dados promovida pela Alura. 🤞\n",
        "\n",
        "---\n",
        "📊 📚\n",
        "\n",
        "Nele explorei os dados dos inscritos na prova do Enem 2019, buscando avaliar a influência das desigualdades de gênero, raça e outros fatores sócio-econômicos na performance dos candidatos no exame.\n",
        "\n",
        "---\n",
        "\n",
        "Observação:\n",
        "\n",
        "  ◾️ Os dados utilizados são uma amostra dos dados do Enem 2019, disponibilizada pela Alura para as aulas da Imersão Dados."
      ]
    },
    {
      "cell_type": "markdown",
      "metadata": {
        "id": "-NPWZGO6bSSK"
      },
      "source": [
        "##Importação dos Dados"
      ]
    },
    {
      "cell_type": "code",
      "metadata": {
        "id": "3eeZV0XnHX-k"
      },
      "source": [
        "import pandas as pd\n",
        "import seaborn as sns\n",
        "import matplotlib.pyplot as plt\n",
        "import numpy as np\n",
        "from scipy import stats\n",
        "from pandas.plotting import table "
      ],
      "execution_count": null,
      "outputs": []
    },
    {
      "cell_type": "code",
      "metadata": {
        "id": "2_79B9FGHe3v",
        "outputId": "09c4eb8c-3018-4b44-b841-15a9850c2b54",
        "colab": {
          "base_uri": "https://localhost:8080/",
          "height": 244
        }
      },
      "source": [
        "# Importando os dados\n",
        "\n",
        "fonte = \"https://raw.githubusercontent.com/alura-cursos/imersao-dados-2-2020/master/MICRODADOS_ENEM_2019_SAMPLE_43278.csv\"\n",
        "\n",
        "dados = pd.read_csv(fonte)\n",
        "\n",
        "dados.head()"
      ],
      "execution_count": null,
      "outputs": [
        {
          "output_type": "execute_result",
          "data": {
            "text/html": [
              "<div>\n",
              "<style scoped>\n",
              "    .dataframe tbody tr th:only-of-type {\n",
              "        vertical-align: middle;\n",
              "    }\n",
              "\n",
              "    .dataframe tbody tr th {\n",
              "        vertical-align: top;\n",
              "    }\n",
              "\n",
              "    .dataframe thead th {\n",
              "        text-align: right;\n",
              "    }\n",
              "</style>\n",
              "<table border=\"1\" class=\"dataframe\">\n",
              "  <thead>\n",
              "    <tr style=\"text-align: right;\">\n",
              "      <th></th>\n",
              "      <th>NU_INSCRICAO</th>\n",
              "      <th>NU_ANO</th>\n",
              "      <th>CO_MUNICIPIO_RESIDENCIA</th>\n",
              "      <th>NO_MUNICIPIO_RESIDENCIA</th>\n",
              "      <th>CO_UF_RESIDENCIA</th>\n",
              "      <th>SG_UF_RESIDENCIA</th>\n",
              "      <th>NU_IDADE</th>\n",
              "      <th>TP_SEXO</th>\n",
              "      <th>TP_ESTADO_CIVIL</th>\n",
              "      <th>TP_COR_RACA</th>\n",
              "      <th>TP_NACIONALIDADE</th>\n",
              "      <th>CO_MUNICIPIO_NASCIMENTO</th>\n",
              "      <th>NO_MUNICIPIO_NASCIMENTO</th>\n",
              "      <th>CO_UF_NASCIMENTO</th>\n",
              "      <th>SG_UF_NASCIMENTO</th>\n",
              "      <th>TP_ST_CONCLUSAO</th>\n",
              "      <th>TP_ANO_CONCLUIU</th>\n",
              "      <th>TP_ESCOLA</th>\n",
              "      <th>TP_ENSINO</th>\n",
              "      <th>IN_TREINEIRO</th>\n",
              "      <th>CO_ESCOLA</th>\n",
              "      <th>CO_MUNICIPIO_ESC</th>\n",
              "      <th>NO_MUNICIPIO_ESC</th>\n",
              "      <th>CO_UF_ESC</th>\n",
              "      <th>SG_UF_ESC</th>\n",
              "      <th>TP_DEPENDENCIA_ADM_ESC</th>\n",
              "      <th>TP_LOCALIZACAO_ESC</th>\n",
              "      <th>TP_SIT_FUNC_ESC</th>\n",
              "      <th>IN_BAIXA_VISAO</th>\n",
              "      <th>IN_CEGUEIRA</th>\n",
              "      <th>IN_SURDEZ</th>\n",
              "      <th>IN_DEFICIENCIA_AUDITIVA</th>\n",
              "      <th>IN_SURDO_CEGUEIRA</th>\n",
              "      <th>IN_DEFICIENCIA_FISICA</th>\n",
              "      <th>IN_DEFICIENCIA_MENTAL</th>\n",
              "      <th>IN_DEFICIT_ATENCAO</th>\n",
              "      <th>IN_DISLEXIA</th>\n",
              "      <th>IN_DISCALCULIA</th>\n",
              "      <th>IN_AUTISMO</th>\n",
              "      <th>IN_VISAO_MONOCULAR</th>\n",
              "      <th>...</th>\n",
              "      <th>TX_RESPOSTAS_CH</th>\n",
              "      <th>TX_RESPOSTAS_LC</th>\n",
              "      <th>TX_RESPOSTAS_MT</th>\n",
              "      <th>TP_LINGUA</th>\n",
              "      <th>TX_GABARITO_CN</th>\n",
              "      <th>TX_GABARITO_CH</th>\n",
              "      <th>TX_GABARITO_LC</th>\n",
              "      <th>TX_GABARITO_MT</th>\n",
              "      <th>TP_STATUS_REDACAO</th>\n",
              "      <th>NU_NOTA_COMP1</th>\n",
              "      <th>NU_NOTA_COMP2</th>\n",
              "      <th>NU_NOTA_COMP3</th>\n",
              "      <th>NU_NOTA_COMP4</th>\n",
              "      <th>NU_NOTA_COMP5</th>\n",
              "      <th>NU_NOTA_REDACAO</th>\n",
              "      <th>Q001</th>\n",
              "      <th>Q002</th>\n",
              "      <th>Q003</th>\n",
              "      <th>Q004</th>\n",
              "      <th>Q005</th>\n",
              "      <th>Q006</th>\n",
              "      <th>Q007</th>\n",
              "      <th>Q008</th>\n",
              "      <th>Q009</th>\n",
              "      <th>Q010</th>\n",
              "      <th>Q011</th>\n",
              "      <th>Q012</th>\n",
              "      <th>Q013</th>\n",
              "      <th>Q014</th>\n",
              "      <th>Q015</th>\n",
              "      <th>Q016</th>\n",
              "      <th>Q017</th>\n",
              "      <th>Q018</th>\n",
              "      <th>Q019</th>\n",
              "      <th>Q020</th>\n",
              "      <th>Q021</th>\n",
              "      <th>Q022</th>\n",
              "      <th>Q023</th>\n",
              "      <th>Q024</th>\n",
              "      <th>Q025</th>\n",
              "    </tr>\n",
              "  </thead>\n",
              "  <tbody>\n",
              "    <tr>\n",
              "      <th>0</th>\n",
              "      <td>190001004661</td>\n",
              "      <td>2019</td>\n",
              "      <td>1506138</td>\n",
              "      <td>Redenção</td>\n",
              "      <td>15</td>\n",
              "      <td>PA</td>\n",
              "      <td>17</td>\n",
              "      <td>M</td>\n",
              "      <td>1</td>\n",
              "      <td>3</td>\n",
              "      <td>1</td>\n",
              "      <td>1506138.0</td>\n",
              "      <td>Redenção</td>\n",
              "      <td>15.0</td>\n",
              "      <td>PA</td>\n",
              "      <td>3</td>\n",
              "      <td>0</td>\n",
              "      <td>1</td>\n",
              "      <td>NaN</td>\n",
              "      <td>1</td>\n",
              "      <td>NaN</td>\n",
              "      <td>NaN</td>\n",
              "      <td>NaN</td>\n",
              "      <td>NaN</td>\n",
              "      <td>NaN</td>\n",
              "      <td>NaN</td>\n",
              "      <td>NaN</td>\n",
              "      <td>NaN</td>\n",
              "      <td>0</td>\n",
              "      <td>0</td>\n",
              "      <td>0</td>\n",
              "      <td>0</td>\n",
              "      <td>0</td>\n",
              "      <td>0</td>\n",
              "      <td>0</td>\n",
              "      <td>0</td>\n",
              "      <td>0</td>\n",
              "      <td>0</td>\n",
              "      <td>0</td>\n",
              "      <td>0</td>\n",
              "      <td>...</td>\n",
              "      <td>ACAEAAACABEBABAADCEEEDE*CBDCCCADADCCCBEBBBBDB</td>\n",
              "      <td>99999CCCABBCAADDBCEBCCADBEEBDECBAABDEACACAEABB...</td>\n",
              "      <td>DEEDCAECDDEEECBCBECABEBAECBBCDAECAEBBBBBDCCDB</td>\n",
              "      <td>1</td>\n",
              "      <td>DEADBAAAEBEECEBCBCBCBDADAEABCEDDDDADCBEECACBC</td>\n",
              "      <td>ACACEEBCCBABADBBBACDBBACCCCADCEBADCBEEDBBEADB</td>\n",
              "      <td>EBBADCABDABACBCEBDEEAAADDBECDECDDBADBCDAAECBCC...</td>\n",
              "      <td>AADDDBEEEBEDDBEBACABCDBABECECACAECDCBDCCEDCDA</td>\n",
              "      <td>1.0</td>\n",
              "      <td>60.0</td>\n",
              "      <td>100.0</td>\n",
              "      <td>80.0</td>\n",
              "      <td>80.0</td>\n",
              "      <td>100.0</td>\n",
              "      <td>420.0</td>\n",
              "      <td>B</td>\n",
              "      <td>B</td>\n",
              "      <td>A</td>\n",
              "      <td>A</td>\n",
              "      <td>4</td>\n",
              "      <td>B</td>\n",
              "      <td>A</td>\n",
              "      <td>C</td>\n",
              "      <td>B</td>\n",
              "      <td>A</td>\n",
              "      <td>C</td>\n",
              "      <td>B</td>\n",
              "      <td>A</td>\n",
              "      <td>A</td>\n",
              "      <td>A</td>\n",
              "      <td>A</td>\n",
              "      <td>A</td>\n",
              "      <td>A</td>\n",
              "      <td>A</td>\n",
              "      <td>B</td>\n",
              "      <td>A</td>\n",
              "      <td>C</td>\n",
              "      <td>A</td>\n",
              "      <td>B</td>\n",
              "      <td>B</td>\n",
              "    </tr>\n",
              "    <tr>\n",
              "      <th>1</th>\n",
              "      <td>190001004674</td>\n",
              "      <td>2019</td>\n",
              "      <td>1504208</td>\n",
              "      <td>Marabá</td>\n",
              "      <td>15</td>\n",
              "      <td>PA</td>\n",
              "      <td>23</td>\n",
              "      <td>M</td>\n",
              "      <td>1</td>\n",
              "      <td>3</td>\n",
              "      <td>1</td>\n",
              "      <td>1504208.0</td>\n",
              "      <td>Marabá</td>\n",
              "      <td>15.0</td>\n",
              "      <td>PA</td>\n",
              "      <td>1</td>\n",
              "      <td>3</td>\n",
              "      <td>1</td>\n",
              "      <td>1.0</td>\n",
              "      <td>0</td>\n",
              "      <td>NaN</td>\n",
              "      <td>NaN</td>\n",
              "      <td>NaN</td>\n",
              "      <td>NaN</td>\n",
              "      <td>NaN</td>\n",
              "      <td>NaN</td>\n",
              "      <td>NaN</td>\n",
              "      <td>NaN</td>\n",
              "      <td>0</td>\n",
              "      <td>0</td>\n",
              "      <td>0</td>\n",
              "      <td>0</td>\n",
              "      <td>0</td>\n",
              "      <td>0</td>\n",
              "      <td>0</td>\n",
              "      <td>0</td>\n",
              "      <td>0</td>\n",
              "      <td>0</td>\n",
              "      <td>0</td>\n",
              "      <td>0</td>\n",
              "      <td>...</td>\n",
              "      <td>ABBCEADCEBAAACACEDCDCDACCCACDCBCABCAACBDBDEDE</td>\n",
              "      <td>99999ABCEBCEDDECEEEBBCCEECCABDABEEBCDEAEBBEAEA...</td>\n",
              "      <td>NaN</td>\n",
              "      <td>1</td>\n",
              "      <td>NaN</td>\n",
              "      <td>CBABADBBCEEEBCBADCBEEDBBEADBBACDBBACCCCADACAC</td>\n",
              "      <td>BBEDABDACACBABAECBBCCADCEBDBBCDDEEAAADDBECDECA...</td>\n",
              "      <td>NaN</td>\n",
              "      <td>1.0</td>\n",
              "      <td>80.0</td>\n",
              "      <td>100.0</td>\n",
              "      <td>80.0</td>\n",
              "      <td>80.0</td>\n",
              "      <td>60.0</td>\n",
              "      <td>400.0</td>\n",
              "      <td>C</td>\n",
              "      <td>C</td>\n",
              "      <td>A</td>\n",
              "      <td>A</td>\n",
              "      <td>4</td>\n",
              "      <td>B</td>\n",
              "      <td>A</td>\n",
              "      <td>B</td>\n",
              "      <td>C</td>\n",
              "      <td>A</td>\n",
              "      <td>A</td>\n",
              "      <td>B</td>\n",
              "      <td>B</td>\n",
              "      <td>B</td>\n",
              "      <td>A</td>\n",
              "      <td>A</td>\n",
              "      <td>A</td>\n",
              "      <td>A</td>\n",
              "      <td>B</td>\n",
              "      <td>A</td>\n",
              "      <td>A</td>\n",
              "      <td>B</td>\n",
              "      <td>A</td>\n",
              "      <td>A</td>\n",
              "      <td>B</td>\n",
              "    </tr>\n",
              "    <tr>\n",
              "      <th>2</th>\n",
              "      <td>190001004722</td>\n",
              "      <td>2019</td>\n",
              "      <td>1501402</td>\n",
              "      <td>Belém</td>\n",
              "      <td>15</td>\n",
              "      <td>PA</td>\n",
              "      <td>35</td>\n",
              "      <td>F</td>\n",
              "      <td>2</td>\n",
              "      <td>1</td>\n",
              "      <td>1</td>\n",
              "      <td>1501402.0</td>\n",
              "      <td>Belém</td>\n",
              "      <td>15.0</td>\n",
              "      <td>PA</td>\n",
              "      <td>1</td>\n",
              "      <td>12</td>\n",
              "      <td>1</td>\n",
              "      <td>1.0</td>\n",
              "      <td>0</td>\n",
              "      <td>NaN</td>\n",
              "      <td>NaN</td>\n",
              "      <td>NaN</td>\n",
              "      <td>NaN</td>\n",
              "      <td>NaN</td>\n",
              "      <td>NaN</td>\n",
              "      <td>NaN</td>\n",
              "      <td>NaN</td>\n",
              "      <td>0</td>\n",
              "      <td>0</td>\n",
              "      <td>0</td>\n",
              "      <td>0</td>\n",
              "      <td>0</td>\n",
              "      <td>0</td>\n",
              "      <td>0</td>\n",
              "      <td>0</td>\n",
              "      <td>0</td>\n",
              "      <td>0</td>\n",
              "      <td>0</td>\n",
              "      <td>0</td>\n",
              "      <td>...</td>\n",
              "      <td>CDCAACCAAADEACBBEBAAEECDABDEBAEAABEDCABABAABC</td>\n",
              "      <td>99999ECBCECEBBABECCCECECCEECCDECEEEDADDDDECEDD...</td>\n",
              "      <td>DDBEADEBBCADCEEACABECBCEBADECADCEDAACBDABABCE</td>\n",
              "      <td>1</td>\n",
              "      <td>AAECACDEADCBCDDDBCBDADAEABCEBABEEBCBEECEBDADC</td>\n",
              "      <td>CBABADBBCEEEBCBADCBEEDBBEADBBACDBBACCCCADACAC</td>\n",
              "      <td>BBEDABDACACBABAECBBCCADCEBDBBCDDEEAAADDBECDECA...</td>\n",
              "      <td>EEEADBEBACABCDBABECECACDCBDCCEDCDABEDECDDDBAA</td>\n",
              "      <td>1.0</td>\n",
              "      <td>100.0</td>\n",
              "      <td>120.0</td>\n",
              "      <td>120.0</td>\n",
              "      <td>100.0</td>\n",
              "      <td>120.0</td>\n",
              "      <td>560.0</td>\n",
              "      <td>C</td>\n",
              "      <td>A</td>\n",
              "      <td>B</td>\n",
              "      <td>B</td>\n",
              "      <td>5</td>\n",
              "      <td>C</td>\n",
              "      <td>A</td>\n",
              "      <td>B</td>\n",
              "      <td>C</td>\n",
              "      <td>A</td>\n",
              "      <td>A</td>\n",
              "      <td>B</td>\n",
              "      <td>A</td>\n",
              "      <td>B</td>\n",
              "      <td>A</td>\n",
              "      <td>A</td>\n",
              "      <td>A</td>\n",
              "      <td>A</td>\n",
              "      <td>B</td>\n",
              "      <td>A</td>\n",
              "      <td>B</td>\n",
              "      <td>B</td>\n",
              "      <td>A</td>\n",
              "      <td>A</td>\n",
              "      <td>B</td>\n",
              "    </tr>\n",
              "    <tr>\n",
              "      <th>3</th>\n",
              "      <td>190001004735</td>\n",
              "      <td>2019</td>\n",
              "      <td>1507300</td>\n",
              "      <td>São Félix do Xingu</td>\n",
              "      <td>15</td>\n",
              "      <td>PA</td>\n",
              "      <td>23</td>\n",
              "      <td>F</td>\n",
              "      <td>1</td>\n",
              "      <td>3</td>\n",
              "      <td>1</td>\n",
              "      <td>1505437.0</td>\n",
              "      <td>Ourilândia do Norte</td>\n",
              "      <td>15.0</td>\n",
              "      <td>PA</td>\n",
              "      <td>1</td>\n",
              "      <td>7</td>\n",
              "      <td>1</td>\n",
              "      <td>NaN</td>\n",
              "      <td>0</td>\n",
              "      <td>NaN</td>\n",
              "      <td>NaN</td>\n",
              "      <td>NaN</td>\n",
              "      <td>NaN</td>\n",
              "      <td>NaN</td>\n",
              "      <td>NaN</td>\n",
              "      <td>NaN</td>\n",
              "      <td>NaN</td>\n",
              "      <td>0</td>\n",
              "      <td>0</td>\n",
              "      <td>0</td>\n",
              "      <td>0</td>\n",
              "      <td>0</td>\n",
              "      <td>0</td>\n",
              "      <td>0</td>\n",
              "      <td>0</td>\n",
              "      <td>0</td>\n",
              "      <td>0</td>\n",
              "      <td>0</td>\n",
              "      <td>0</td>\n",
              "      <td>...</td>\n",
              "      <td>EECCCEDBADBEAAAAEBAECEAAAAEEEBACCAC*CEAEDAECE</td>\n",
              "      <td>99999BABCDABBCBDDAAECADBDDADDCBCEEDCAEBCEAEABD...</td>\n",
              "      <td>CBDEBBCBDEBCABCDBDEDADCCBEDBCAECEBEBDEBAEECBC</td>\n",
              "      <td>1</td>\n",
              "      <td>BEEAAEBEEBADEADDADAEABCEDDDBCBCBCCACBCDADCCEB</td>\n",
              "      <td>EEBCEEDBADBBCBABCCADCEBACDBBACCACACBEADBBADCB</td>\n",
              "      <td>ADBBEDCABAABBCBCDAAECDDDBAAAECADECDCEBDEEAECBD...</td>\n",
              "      <td>BEDEEEAADBEBACABCDBABECECACADCBDCCEDCDABECDDD</td>\n",
              "      <td>1.0</td>\n",
              "      <td>100.0</td>\n",
              "      <td>120.0</td>\n",
              "      <td>120.0</td>\n",
              "      <td>120.0</td>\n",
              "      <td>40.0</td>\n",
              "      <td>500.0</td>\n",
              "      <td>E</td>\n",
              "      <td>C</td>\n",
              "      <td>A</td>\n",
              "      <td>A</td>\n",
              "      <td>1</td>\n",
              "      <td>B</td>\n",
              "      <td>A</td>\n",
              "      <td>B</td>\n",
              "      <td>C</td>\n",
              "      <td>A</td>\n",
              "      <td>A</td>\n",
              "      <td>B</td>\n",
              "      <td>A</td>\n",
              "      <td>A</td>\n",
              "      <td>A</td>\n",
              "      <td>A</td>\n",
              "      <td>A</td>\n",
              "      <td>A</td>\n",
              "      <td>B</td>\n",
              "      <td>A</td>\n",
              "      <td>A</td>\n",
              "      <td>B</td>\n",
              "      <td>A</td>\n",
              "      <td>A</td>\n",
              "      <td>B</td>\n",
              "    </tr>\n",
              "    <tr>\n",
              "      <th>4</th>\n",
              "      <td>190001004776</td>\n",
              "      <td>2019</td>\n",
              "      <td>1500800</td>\n",
              "      <td>Ananindeua</td>\n",
              "      <td>15</td>\n",
              "      <td>PA</td>\n",
              "      <td>16</td>\n",
              "      <td>F</td>\n",
              "      <td>1</td>\n",
              "      <td>3</td>\n",
              "      <td>1</td>\n",
              "      <td>1500800.0</td>\n",
              "      <td>Ananindeua</td>\n",
              "      <td>15.0</td>\n",
              "      <td>PA</td>\n",
              "      <td>3</td>\n",
              "      <td>0</td>\n",
              "      <td>1</td>\n",
              "      <td>NaN</td>\n",
              "      <td>1</td>\n",
              "      <td>NaN</td>\n",
              "      <td>NaN</td>\n",
              "      <td>NaN</td>\n",
              "      <td>NaN</td>\n",
              "      <td>NaN</td>\n",
              "      <td>NaN</td>\n",
              "      <td>NaN</td>\n",
              "      <td>NaN</td>\n",
              "      <td>0</td>\n",
              "      <td>0</td>\n",
              "      <td>0</td>\n",
              "      <td>0</td>\n",
              "      <td>0</td>\n",
              "      <td>0</td>\n",
              "      <td>0</td>\n",
              "      <td>0</td>\n",
              "      <td>0</td>\n",
              "      <td>0</td>\n",
              "      <td>0</td>\n",
              "      <td>0</td>\n",
              "      <td>...</td>\n",
              "      <td>CCBCBEACABACABBBBACCBCEBDCBABCADADCBCADBAADEA</td>\n",
              "      <td>EBCAB99999BBCECBCACBEACBDAABDBCBBDACEBBACDCAEC...</td>\n",
              "      <td>AECCBBCBBCBDEDECACBAABEDABBEDDADCEADDBEBDBBEB</td>\n",
              "      <td>0</td>\n",
              "      <td>DEADBAAAEBEECEBCBCBCBDADAEABCEDDDDADCBEECACBC</td>\n",
              "      <td>ACACEEBCCBABADBBBACDBBACCCCADCEBADCBEEDBBEADB</td>\n",
              "      <td>EBBADCABDABACBCEBDEEAAADDBECDECDDBADBCDAAECBCC...</td>\n",
              "      <td>AADDDBEEEBEDDBEBACABCDBABECECACAECDCBDCCEDCDA</td>\n",
              "      <td>1.0</td>\n",
              "      <td>160.0</td>\n",
              "      <td>140.0</td>\n",
              "      <td>160.0</td>\n",
              "      <td>160.0</td>\n",
              "      <td>160.0</td>\n",
              "      <td>780.0</td>\n",
              "      <td>E</td>\n",
              "      <td>E</td>\n",
              "      <td>B</td>\n",
              "      <td>D</td>\n",
              "      <td>3</td>\n",
              "      <td>E</td>\n",
              "      <td>A</td>\n",
              "      <td>B</td>\n",
              "      <td>C</td>\n",
              "      <td>B</td>\n",
              "      <td>A</td>\n",
              "      <td>B</td>\n",
              "      <td>A</td>\n",
              "      <td>A</td>\n",
              "      <td>A</td>\n",
              "      <td>A</td>\n",
              "      <td>A</td>\n",
              "      <td>A</td>\n",
              "      <td>B</td>\n",
              "      <td>A</td>\n",
              "      <td>A</td>\n",
              "      <td>D</td>\n",
              "      <td>A</td>\n",
              "      <td>A</td>\n",
              "      <td>B</td>\n",
              "    </tr>\n",
              "  </tbody>\n",
              "</table>\n",
              "<p>5 rows × 136 columns</p>\n",
              "</div>"
            ],
            "text/plain": [
              "   NU_INSCRICAO  NU_ANO  CO_MUNICIPIO_RESIDENCIA  ... Q023  Q024 Q025\n",
              "0  190001004661    2019                  1506138  ...    A     B    B\n",
              "1  190001004674    2019                  1504208  ...    A     A    B\n",
              "2  190001004722    2019                  1501402  ...    A     A    B\n",
              "3  190001004735    2019                  1507300  ...    A     A    B\n",
              "4  190001004776    2019                  1500800  ...    A     A    B\n",
              "\n",
              "[5 rows x 136 columns]"
            ]
          },
          "metadata": {
            "tags": []
          },
          "execution_count": 49
        }
      ]
    },
    {
      "cell_type": "code",
      "metadata": {
        "id": "68G6iJVPIPsi",
        "outputId": "cfd92c3e-9a7b-4877-cbd3-86962c865593",
        "colab": {
          "base_uri": "https://localhost:8080/",
          "height": 244
        }
      },
      "source": [
        "provas = [\"NU_NOTA_REDACAO\", \"NU_NOTA_CH\", \"NU_NOTA_CN\", \"NU_NOTA_MT\", \"NU_NOTA_LC\"]\n",
        "dados['NU_NOTA_TOTAL'] = dados[provas].sum(axis = 1)\n",
        "dados.head()"
      ],
      "execution_count": null,
      "outputs": [
        {
          "output_type": "execute_result",
          "data": {
            "text/html": [
              "<div>\n",
              "<style scoped>\n",
              "    .dataframe tbody tr th:only-of-type {\n",
              "        vertical-align: middle;\n",
              "    }\n",
              "\n",
              "    .dataframe tbody tr th {\n",
              "        vertical-align: top;\n",
              "    }\n",
              "\n",
              "    .dataframe thead th {\n",
              "        text-align: right;\n",
              "    }\n",
              "</style>\n",
              "<table border=\"1\" class=\"dataframe\">\n",
              "  <thead>\n",
              "    <tr style=\"text-align: right;\">\n",
              "      <th></th>\n",
              "      <th>NU_INSCRICAO</th>\n",
              "      <th>NU_ANO</th>\n",
              "      <th>CO_MUNICIPIO_RESIDENCIA</th>\n",
              "      <th>NO_MUNICIPIO_RESIDENCIA</th>\n",
              "      <th>CO_UF_RESIDENCIA</th>\n",
              "      <th>SG_UF_RESIDENCIA</th>\n",
              "      <th>NU_IDADE</th>\n",
              "      <th>TP_SEXO</th>\n",
              "      <th>TP_ESTADO_CIVIL</th>\n",
              "      <th>TP_COR_RACA</th>\n",
              "      <th>TP_NACIONALIDADE</th>\n",
              "      <th>CO_MUNICIPIO_NASCIMENTO</th>\n",
              "      <th>NO_MUNICIPIO_NASCIMENTO</th>\n",
              "      <th>CO_UF_NASCIMENTO</th>\n",
              "      <th>SG_UF_NASCIMENTO</th>\n",
              "      <th>TP_ST_CONCLUSAO</th>\n",
              "      <th>TP_ANO_CONCLUIU</th>\n",
              "      <th>TP_ESCOLA</th>\n",
              "      <th>TP_ENSINO</th>\n",
              "      <th>IN_TREINEIRO</th>\n",
              "      <th>CO_ESCOLA</th>\n",
              "      <th>CO_MUNICIPIO_ESC</th>\n",
              "      <th>NO_MUNICIPIO_ESC</th>\n",
              "      <th>CO_UF_ESC</th>\n",
              "      <th>SG_UF_ESC</th>\n",
              "      <th>TP_DEPENDENCIA_ADM_ESC</th>\n",
              "      <th>TP_LOCALIZACAO_ESC</th>\n",
              "      <th>TP_SIT_FUNC_ESC</th>\n",
              "      <th>IN_BAIXA_VISAO</th>\n",
              "      <th>IN_CEGUEIRA</th>\n",
              "      <th>IN_SURDEZ</th>\n",
              "      <th>IN_DEFICIENCIA_AUDITIVA</th>\n",
              "      <th>IN_SURDO_CEGUEIRA</th>\n",
              "      <th>IN_DEFICIENCIA_FISICA</th>\n",
              "      <th>IN_DEFICIENCIA_MENTAL</th>\n",
              "      <th>IN_DEFICIT_ATENCAO</th>\n",
              "      <th>IN_DISLEXIA</th>\n",
              "      <th>IN_DISCALCULIA</th>\n",
              "      <th>IN_AUTISMO</th>\n",
              "      <th>IN_VISAO_MONOCULAR</th>\n",
              "      <th>...</th>\n",
              "      <th>TX_RESPOSTAS_LC</th>\n",
              "      <th>TX_RESPOSTAS_MT</th>\n",
              "      <th>TP_LINGUA</th>\n",
              "      <th>TX_GABARITO_CN</th>\n",
              "      <th>TX_GABARITO_CH</th>\n",
              "      <th>TX_GABARITO_LC</th>\n",
              "      <th>TX_GABARITO_MT</th>\n",
              "      <th>TP_STATUS_REDACAO</th>\n",
              "      <th>NU_NOTA_COMP1</th>\n",
              "      <th>NU_NOTA_COMP2</th>\n",
              "      <th>NU_NOTA_COMP3</th>\n",
              "      <th>NU_NOTA_COMP4</th>\n",
              "      <th>NU_NOTA_COMP5</th>\n",
              "      <th>NU_NOTA_REDACAO</th>\n",
              "      <th>Q001</th>\n",
              "      <th>Q002</th>\n",
              "      <th>Q003</th>\n",
              "      <th>Q004</th>\n",
              "      <th>Q005</th>\n",
              "      <th>Q006</th>\n",
              "      <th>Q007</th>\n",
              "      <th>Q008</th>\n",
              "      <th>Q009</th>\n",
              "      <th>Q010</th>\n",
              "      <th>Q011</th>\n",
              "      <th>Q012</th>\n",
              "      <th>Q013</th>\n",
              "      <th>Q014</th>\n",
              "      <th>Q015</th>\n",
              "      <th>Q016</th>\n",
              "      <th>Q017</th>\n",
              "      <th>Q018</th>\n",
              "      <th>Q019</th>\n",
              "      <th>Q020</th>\n",
              "      <th>Q021</th>\n",
              "      <th>Q022</th>\n",
              "      <th>Q023</th>\n",
              "      <th>Q024</th>\n",
              "      <th>Q025</th>\n",
              "      <th>NU_NOTA_TOTAL</th>\n",
              "    </tr>\n",
              "  </thead>\n",
              "  <tbody>\n",
              "    <tr>\n",
              "      <th>0</th>\n",
              "      <td>190001004661</td>\n",
              "      <td>2019</td>\n",
              "      <td>1506138</td>\n",
              "      <td>Redenção</td>\n",
              "      <td>15</td>\n",
              "      <td>PA</td>\n",
              "      <td>17</td>\n",
              "      <td>M</td>\n",
              "      <td>1</td>\n",
              "      <td>3</td>\n",
              "      <td>1</td>\n",
              "      <td>1506138.0</td>\n",
              "      <td>Redenção</td>\n",
              "      <td>15.0</td>\n",
              "      <td>PA</td>\n",
              "      <td>3</td>\n",
              "      <td>0</td>\n",
              "      <td>1</td>\n",
              "      <td>NaN</td>\n",
              "      <td>1</td>\n",
              "      <td>NaN</td>\n",
              "      <td>NaN</td>\n",
              "      <td>NaN</td>\n",
              "      <td>NaN</td>\n",
              "      <td>NaN</td>\n",
              "      <td>NaN</td>\n",
              "      <td>NaN</td>\n",
              "      <td>NaN</td>\n",
              "      <td>0</td>\n",
              "      <td>0</td>\n",
              "      <td>0</td>\n",
              "      <td>0</td>\n",
              "      <td>0</td>\n",
              "      <td>0</td>\n",
              "      <td>0</td>\n",
              "      <td>0</td>\n",
              "      <td>0</td>\n",
              "      <td>0</td>\n",
              "      <td>0</td>\n",
              "      <td>0</td>\n",
              "      <td>...</td>\n",
              "      <td>99999CCCABBCAADDBCEBCCADBEEBDECBAABDEACACAEABB...</td>\n",
              "      <td>DEEDCAECDDEEECBCBECABEBAECBBCDAECAEBBBBBDCCDB</td>\n",
              "      <td>1</td>\n",
              "      <td>DEADBAAAEBEECEBCBCBCBDADAEABCEDDDDADCBEECACBC</td>\n",
              "      <td>ACACEEBCCBABADBBBACDBBACCCCADCEBADCBEEDBBEADB</td>\n",
              "      <td>EBBADCABDABACBCEBDEEAAADDBECDECDDBADBCDAAECBCC...</td>\n",
              "      <td>AADDDBEEEBEDDBEBACABCDBABECECACAECDCBDCCEDCDA</td>\n",
              "      <td>1.0</td>\n",
              "      <td>60.0</td>\n",
              "      <td>100.0</td>\n",
              "      <td>80.0</td>\n",
              "      <td>80.0</td>\n",
              "      <td>100.0</td>\n",
              "      <td>420.0</td>\n",
              "      <td>B</td>\n",
              "      <td>B</td>\n",
              "      <td>A</td>\n",
              "      <td>A</td>\n",
              "      <td>4</td>\n",
              "      <td>B</td>\n",
              "      <td>A</td>\n",
              "      <td>C</td>\n",
              "      <td>B</td>\n",
              "      <td>A</td>\n",
              "      <td>C</td>\n",
              "      <td>B</td>\n",
              "      <td>A</td>\n",
              "      <td>A</td>\n",
              "      <td>A</td>\n",
              "      <td>A</td>\n",
              "      <td>A</td>\n",
              "      <td>A</td>\n",
              "      <td>A</td>\n",
              "      <td>B</td>\n",
              "      <td>A</td>\n",
              "      <td>C</td>\n",
              "      <td>A</td>\n",
              "      <td>B</td>\n",
              "      <td>B</td>\n",
              "      <td>2288.9</td>\n",
              "    </tr>\n",
              "    <tr>\n",
              "      <th>1</th>\n",
              "      <td>190001004674</td>\n",
              "      <td>2019</td>\n",
              "      <td>1504208</td>\n",
              "      <td>Marabá</td>\n",
              "      <td>15</td>\n",
              "      <td>PA</td>\n",
              "      <td>23</td>\n",
              "      <td>M</td>\n",
              "      <td>1</td>\n",
              "      <td>3</td>\n",
              "      <td>1</td>\n",
              "      <td>1504208.0</td>\n",
              "      <td>Marabá</td>\n",
              "      <td>15.0</td>\n",
              "      <td>PA</td>\n",
              "      <td>1</td>\n",
              "      <td>3</td>\n",
              "      <td>1</td>\n",
              "      <td>1.0</td>\n",
              "      <td>0</td>\n",
              "      <td>NaN</td>\n",
              "      <td>NaN</td>\n",
              "      <td>NaN</td>\n",
              "      <td>NaN</td>\n",
              "      <td>NaN</td>\n",
              "      <td>NaN</td>\n",
              "      <td>NaN</td>\n",
              "      <td>NaN</td>\n",
              "      <td>0</td>\n",
              "      <td>0</td>\n",
              "      <td>0</td>\n",
              "      <td>0</td>\n",
              "      <td>0</td>\n",
              "      <td>0</td>\n",
              "      <td>0</td>\n",
              "      <td>0</td>\n",
              "      <td>0</td>\n",
              "      <td>0</td>\n",
              "      <td>0</td>\n",
              "      <td>0</td>\n",
              "      <td>...</td>\n",
              "      <td>99999ABCEBCEDDECEEEBBCCEECCABDABEEBCDEAEBBEAEA...</td>\n",
              "      <td>NaN</td>\n",
              "      <td>1</td>\n",
              "      <td>NaN</td>\n",
              "      <td>CBABADBBCEEEBCBADCBEEDBBEADBBACDBBACCCCADACAC</td>\n",
              "      <td>BBEDABDACACBABAECBBCCADCEBDBBCDDEEAAADDBECDECA...</td>\n",
              "      <td>NaN</td>\n",
              "      <td>1.0</td>\n",
              "      <td>80.0</td>\n",
              "      <td>100.0</td>\n",
              "      <td>80.0</td>\n",
              "      <td>80.0</td>\n",
              "      <td>60.0</td>\n",
              "      <td>400.0</td>\n",
              "      <td>C</td>\n",
              "      <td>C</td>\n",
              "      <td>A</td>\n",
              "      <td>A</td>\n",
              "      <td>4</td>\n",
              "      <td>B</td>\n",
              "      <td>A</td>\n",
              "      <td>B</td>\n",
              "      <td>C</td>\n",
              "      <td>A</td>\n",
              "      <td>A</td>\n",
              "      <td>B</td>\n",
              "      <td>B</td>\n",
              "      <td>B</td>\n",
              "      <td>A</td>\n",
              "      <td>A</td>\n",
              "      <td>A</td>\n",
              "      <td>A</td>\n",
              "      <td>B</td>\n",
              "      <td>A</td>\n",
              "      <td>A</td>\n",
              "      <td>B</td>\n",
              "      <td>A</td>\n",
              "      <td>A</td>\n",
              "      <td>B</td>\n",
              "      <td>1184.6</td>\n",
              "    </tr>\n",
              "    <tr>\n",
              "      <th>2</th>\n",
              "      <td>190001004722</td>\n",
              "      <td>2019</td>\n",
              "      <td>1501402</td>\n",
              "      <td>Belém</td>\n",
              "      <td>15</td>\n",
              "      <td>PA</td>\n",
              "      <td>35</td>\n",
              "      <td>F</td>\n",
              "      <td>2</td>\n",
              "      <td>1</td>\n",
              "      <td>1</td>\n",
              "      <td>1501402.0</td>\n",
              "      <td>Belém</td>\n",
              "      <td>15.0</td>\n",
              "      <td>PA</td>\n",
              "      <td>1</td>\n",
              "      <td>12</td>\n",
              "      <td>1</td>\n",
              "      <td>1.0</td>\n",
              "      <td>0</td>\n",
              "      <td>NaN</td>\n",
              "      <td>NaN</td>\n",
              "      <td>NaN</td>\n",
              "      <td>NaN</td>\n",
              "      <td>NaN</td>\n",
              "      <td>NaN</td>\n",
              "      <td>NaN</td>\n",
              "      <td>NaN</td>\n",
              "      <td>0</td>\n",
              "      <td>0</td>\n",
              "      <td>0</td>\n",
              "      <td>0</td>\n",
              "      <td>0</td>\n",
              "      <td>0</td>\n",
              "      <td>0</td>\n",
              "      <td>0</td>\n",
              "      <td>0</td>\n",
              "      <td>0</td>\n",
              "      <td>0</td>\n",
              "      <td>0</td>\n",
              "      <td>...</td>\n",
              "      <td>99999ECBCECEBBABECCCECECCEECCDECEEEDADDDDECEDD...</td>\n",
              "      <td>DDBEADEBBCADCEEACABECBCEBADECADCEDAACBDABABCE</td>\n",
              "      <td>1</td>\n",
              "      <td>AAECACDEADCBCDDDBCBDADAEABCEBABEEBCBEECEBDADC</td>\n",
              "      <td>CBABADBBCEEEBCBADCBEEDBBEADBBACDBBACCCCADACAC</td>\n",
              "      <td>BBEDABDACACBABAECBBCCADCEBDBBCDDEEAAADDBECDECA...</td>\n",
              "      <td>EEEADBEBACABCDBABECECACDCBDCCEDCDABEDECDDDBAA</td>\n",
              "      <td>1.0</td>\n",
              "      <td>100.0</td>\n",
              "      <td>120.0</td>\n",
              "      <td>120.0</td>\n",
              "      <td>100.0</td>\n",
              "      <td>120.0</td>\n",
              "      <td>560.0</td>\n",
              "      <td>C</td>\n",
              "      <td>A</td>\n",
              "      <td>B</td>\n",
              "      <td>B</td>\n",
              "      <td>5</td>\n",
              "      <td>C</td>\n",
              "      <td>A</td>\n",
              "      <td>B</td>\n",
              "      <td>C</td>\n",
              "      <td>A</td>\n",
              "      <td>A</td>\n",
              "      <td>B</td>\n",
              "      <td>A</td>\n",
              "      <td>B</td>\n",
              "      <td>A</td>\n",
              "      <td>A</td>\n",
              "      <td>A</td>\n",
              "      <td>A</td>\n",
              "      <td>B</td>\n",
              "      <td>A</td>\n",
              "      <td>B</td>\n",
              "      <td>B</td>\n",
              "      <td>A</td>\n",
              "      <td>A</td>\n",
              "      <td>B</td>\n",
              "      <td>2350.5</td>\n",
              "    </tr>\n",
              "    <tr>\n",
              "      <th>3</th>\n",
              "      <td>190001004735</td>\n",
              "      <td>2019</td>\n",
              "      <td>1507300</td>\n",
              "      <td>São Félix do Xingu</td>\n",
              "      <td>15</td>\n",
              "      <td>PA</td>\n",
              "      <td>23</td>\n",
              "      <td>F</td>\n",
              "      <td>1</td>\n",
              "      <td>3</td>\n",
              "      <td>1</td>\n",
              "      <td>1505437.0</td>\n",
              "      <td>Ourilândia do Norte</td>\n",
              "      <td>15.0</td>\n",
              "      <td>PA</td>\n",
              "      <td>1</td>\n",
              "      <td>7</td>\n",
              "      <td>1</td>\n",
              "      <td>NaN</td>\n",
              "      <td>0</td>\n",
              "      <td>NaN</td>\n",
              "      <td>NaN</td>\n",
              "      <td>NaN</td>\n",
              "      <td>NaN</td>\n",
              "      <td>NaN</td>\n",
              "      <td>NaN</td>\n",
              "      <td>NaN</td>\n",
              "      <td>NaN</td>\n",
              "      <td>0</td>\n",
              "      <td>0</td>\n",
              "      <td>0</td>\n",
              "      <td>0</td>\n",
              "      <td>0</td>\n",
              "      <td>0</td>\n",
              "      <td>0</td>\n",
              "      <td>0</td>\n",
              "      <td>0</td>\n",
              "      <td>0</td>\n",
              "      <td>0</td>\n",
              "      <td>0</td>\n",
              "      <td>...</td>\n",
              "      <td>99999BABCDABBCBDDAAECADBDDADDCBCEEDCAEBCEAEABD...</td>\n",
              "      <td>CBDEBBCBDEBCABCDBDEDADCCBEDBCAECEBEBDEBAEECBC</td>\n",
              "      <td>1</td>\n",
              "      <td>BEEAAEBEEBADEADDADAEABCEDDDBCBCBCCACBCDADCCEB</td>\n",
              "      <td>EEBCEEDBADBBCBABCCADCEBACDBBACCACACBEADBBADCB</td>\n",
              "      <td>ADBBEDCABAABBCBCDAAECDDDBAAAECADECDCEBDEEAECBD...</td>\n",
              "      <td>BEDEEEAADBEBACABCDBABECECACADCBDCCEDCDABECDDD</td>\n",
              "      <td>1.0</td>\n",
              "      <td>100.0</td>\n",
              "      <td>120.0</td>\n",
              "      <td>120.0</td>\n",
              "      <td>120.0</td>\n",
              "      <td>40.0</td>\n",
              "      <td>500.0</td>\n",
              "      <td>E</td>\n",
              "      <td>C</td>\n",
              "      <td>A</td>\n",
              "      <td>A</td>\n",
              "      <td>1</td>\n",
              "      <td>B</td>\n",
              "      <td>A</td>\n",
              "      <td>B</td>\n",
              "      <td>C</td>\n",
              "      <td>A</td>\n",
              "      <td>A</td>\n",
              "      <td>B</td>\n",
              "      <td>A</td>\n",
              "      <td>A</td>\n",
              "      <td>A</td>\n",
              "      <td>A</td>\n",
              "      <td>A</td>\n",
              "      <td>A</td>\n",
              "      <td>B</td>\n",
              "      <td>A</td>\n",
              "      <td>A</td>\n",
              "      <td>B</td>\n",
              "      <td>A</td>\n",
              "      <td>A</td>\n",
              "      <td>B</td>\n",
              "      <td>2555.7</td>\n",
              "    </tr>\n",
              "    <tr>\n",
              "      <th>4</th>\n",
              "      <td>190001004776</td>\n",
              "      <td>2019</td>\n",
              "      <td>1500800</td>\n",
              "      <td>Ananindeua</td>\n",
              "      <td>15</td>\n",
              "      <td>PA</td>\n",
              "      <td>16</td>\n",
              "      <td>F</td>\n",
              "      <td>1</td>\n",
              "      <td>3</td>\n",
              "      <td>1</td>\n",
              "      <td>1500800.0</td>\n",
              "      <td>Ananindeua</td>\n",
              "      <td>15.0</td>\n",
              "      <td>PA</td>\n",
              "      <td>3</td>\n",
              "      <td>0</td>\n",
              "      <td>1</td>\n",
              "      <td>NaN</td>\n",
              "      <td>1</td>\n",
              "      <td>NaN</td>\n",
              "      <td>NaN</td>\n",
              "      <td>NaN</td>\n",
              "      <td>NaN</td>\n",
              "      <td>NaN</td>\n",
              "      <td>NaN</td>\n",
              "      <td>NaN</td>\n",
              "      <td>NaN</td>\n",
              "      <td>0</td>\n",
              "      <td>0</td>\n",
              "      <td>0</td>\n",
              "      <td>0</td>\n",
              "      <td>0</td>\n",
              "      <td>0</td>\n",
              "      <td>0</td>\n",
              "      <td>0</td>\n",
              "      <td>0</td>\n",
              "      <td>0</td>\n",
              "      <td>0</td>\n",
              "      <td>0</td>\n",
              "      <td>...</td>\n",
              "      <td>EBCAB99999BBCECBCACBEACBDAABDBCBBDACEBBACDCAEC...</td>\n",
              "      <td>AECCBBCBBCBDEDECACBAABEDABBEDDADCEADDBEBDBBEB</td>\n",
              "      <td>0</td>\n",
              "      <td>DEADBAAAEBEECEBCBCBCBDADAEABCEDDDDADCBEECACBC</td>\n",
              "      <td>ACACEEBCCBABADBBBACDBBACCCCADCEBADCBEEDBBEADB</td>\n",
              "      <td>EBBADCABDABACBCEBDEEAAADDBECDECDDBADBCDAAECBCC...</td>\n",
              "      <td>AADDDBEEEBEDDBEBACABCDBABECECACAECDCBDCCEDCDA</td>\n",
              "      <td>1.0</td>\n",
              "      <td>160.0</td>\n",
              "      <td>140.0</td>\n",
              "      <td>160.0</td>\n",
              "      <td>160.0</td>\n",
              "      <td>160.0</td>\n",
              "      <td>780.0</td>\n",
              "      <td>E</td>\n",
              "      <td>E</td>\n",
              "      <td>B</td>\n",
              "      <td>D</td>\n",
              "      <td>3</td>\n",
              "      <td>E</td>\n",
              "      <td>A</td>\n",
              "      <td>B</td>\n",
              "      <td>C</td>\n",
              "      <td>B</td>\n",
              "      <td>A</td>\n",
              "      <td>B</td>\n",
              "      <td>A</td>\n",
              "      <td>A</td>\n",
              "      <td>A</td>\n",
              "      <td>A</td>\n",
              "      <td>A</td>\n",
              "      <td>A</td>\n",
              "      <td>B</td>\n",
              "      <td>A</td>\n",
              "      <td>A</td>\n",
              "      <td>D</td>\n",
              "      <td>A</td>\n",
              "      <td>A</td>\n",
              "      <td>B</td>\n",
              "      <td>2803.5</td>\n",
              "    </tr>\n",
              "  </tbody>\n",
              "</table>\n",
              "<p>5 rows × 137 columns</p>\n",
              "</div>"
            ],
            "text/plain": [
              "   NU_INSCRICAO  NU_ANO  CO_MUNICIPIO_RESIDENCIA  ... Q024  Q025 NU_NOTA_TOTAL\n",
              "0  190001004661    2019                  1506138  ...    B     B        2288.9\n",
              "1  190001004674    2019                  1504208  ...    A     B        1184.6\n",
              "2  190001004722    2019                  1501402  ...    A     B        2350.5\n",
              "3  190001004735    2019                  1507300  ...    A     B        2555.7\n",
              "4  190001004776    2019                  1500800  ...    A     B        2803.5\n",
              "\n",
              "[5 rows x 137 columns]"
            ]
          },
          "metadata": {
            "tags": []
          },
          "execution_count": 50
        }
      ]
    },
    {
      "cell_type": "code",
      "metadata": {
        "id": "t5ctlLWNV6sx"
      },
      "source": [
        "dados_sem_nota_zero = dados.query('NU_NOTA_TOTAL != 0')"
      ],
      "execution_count": null,
      "outputs": []
    },
    {
      "cell_type": "markdown",
      "metadata": {
        "id": "q9ttueBKblv6"
      },
      "source": [
        "##Gênero"
      ]
    },
    {
      "cell_type": "markdown",
      "metadata": {
        "id": "b7qEhhq4b8Di"
      },
      "source": [
        " 🧑🏽 👧🏿\n",
        "\n",
        "Primeiramente, vamos entender melhor qual é a participação de mulheres e homens entre os candidatos inscritos."
      ]
    },
    {
      "cell_type": "code",
      "metadata": {
        "id": "bjjKLWGmcF3l",
        "outputId": "5268ae2e-b3ee-4203-c2f4-237bb33974c9",
        "colab": {
          "base_uri": "https://localhost:8080/",
          "height": 106
        }
      },
      "source": [
        "total = len(dados)\n",
        "\n",
        "feminino = dados.query('TP_SEXO == \"F\"')\n",
        "feminino = len(feminino)\n",
        "\n",
        "masculino = dados.query('TP_SEXO == \"M\"')\n",
        "masculino = len(masculino)\n",
        "\n",
        "candidatos_genero = pd.DataFrame(data = {'Gênero':['Masculino', 'Feminino'], 'Número de Candidatos': [masculino, feminino], 'Proporção': [(masculino/total), (feminino/total)]})\n",
        "\n",
        "candidatos_genero"
      ],
      "execution_count": null,
      "outputs": [
        {
          "output_type": "execute_result",
          "data": {
            "text/html": [
              "<div>\n",
              "<style scoped>\n",
              "    .dataframe tbody tr th:only-of-type {\n",
              "        vertical-align: middle;\n",
              "    }\n",
              "\n",
              "    .dataframe tbody tr th {\n",
              "        vertical-align: top;\n",
              "    }\n",
              "\n",
              "    .dataframe thead th {\n",
              "        text-align: right;\n",
              "    }\n",
              "</style>\n",
              "<table border=\"1\" class=\"dataframe\">\n",
              "  <thead>\n",
              "    <tr style=\"text-align: right;\">\n",
              "      <th></th>\n",
              "      <th>Gênero</th>\n",
              "      <th>Número de Candidatos</th>\n",
              "      <th>Proporção</th>\n",
              "    </tr>\n",
              "  </thead>\n",
              "  <tbody>\n",
              "    <tr>\n",
              "      <th>0</th>\n",
              "      <td>Masculino</td>\n",
              "      <td>51497</td>\n",
              "      <td>0.404279</td>\n",
              "    </tr>\n",
              "    <tr>\n",
              "      <th>1</th>\n",
              "      <td>Feminino</td>\n",
              "      <td>75883</td>\n",
              "      <td>0.595721</td>\n",
              "    </tr>\n",
              "  </tbody>\n",
              "</table>\n",
              "</div>"
            ],
            "text/plain": [
              "      Gênero  Número de Candidatos  Proporção\n",
              "0  Masculino                 51497   0.404279\n",
              "1   Feminino                 75883   0.595721"
            ]
          },
          "metadata": {
            "tags": []
          },
          "execution_count": 52
        }
      ]
    },
    {
      "cell_type": "code",
      "metadata": {
        "id": "fBedSufaf_Z0",
        "outputId": "36be30ed-db34-4a3f-c542-e64c0c0e23a1",
        "colab": {
          "base_uri": "https://localhost:8080/",
          "height": 460
        }
      },
      "source": [
        "plt.figure(figsize=(10, 7))\n",
        "\n",
        "sns.barplot(data = candidatos_genero, y = 'Número de Candidatos', x = 'Gênero', palette = 'crest')"
      ],
      "execution_count": null,
      "outputs": [
        {
          "output_type": "execute_result",
          "data": {
            "text/plain": [
              "<matplotlib.axes._subplots.AxesSubplot at 0x7f63eedc5390>"
            ]
          },
          "metadata": {
            "tags": []
          },
          "execution_count": 143
        },
        {
          "output_type": "display_data",
          "data": {
            "image/png": "[encoded data removed]",
            "text/plain": [
              "<Figure size 720x504 with 1 Axes>"
            ]
          },
          "metadata": {
            "tags": [],
            "needs_background": "light"
          }
        }
      ]
    },
    {
      "cell_type": "markdown",
      "metadata": {
        "id": "2E1RFEiZg_Oy"
      },
      "source": [
        "As mulheres foram maioria no Enem 2019, superando a quantidade de homens em quase 20%!\n",
        "\n",
        "A proporção de mulheres no Enem 2019 é maior do que a proporção destas na população geral, que é de 51,8% ([Fonte](https://educa.ibge.gov.br/jovens/conheca-o-brasil/populacao/18320-quantidade-de-homens-e-mulheres.html#:~:text=Segundo%20dados%20da%20PNAD%20Cont%C3%ADnu,51%2C8%25%20de%20mulheres.)).\n",
        "\n",
        "Já na população até 24 anos (principal faixa de idade dos candidatos), a proporção de homens no Brasil chega até mesmo a ultrapassar por pouco a proporção de mulheres.\n",
        "\n",
        "**O que explica essa diferença?**\n",
        "\n",
        "Hoje no Brasil as mulheres são mais escolarizadas que os homens ([Fonte](https://educa.ibge.gov.br/jovens/materias-especiais/materias-especiais/20453-estatisticas-de-genero-indicadores-sociais-das-mulheres-no-brasil.html)). Por essa parcela da população continuar nos estudos por mais tempo, é esperada a maior participação desse grupo no Enem, que é hoje a maior \"porta de entrada\" para o ensino superior."
      ]
    },
    {
      "cell_type": "markdown",
      "metadata": {
        "id": "ZPoI4D7Zbxe-"
      },
      "source": [
        "\n",
        "\n",
        "---\n",
        "\n",
        "\n",
        "Seria essa proporção maior de mulheres uma característica uniforme entre os estados?\n",
        "\n",
        "Vamos avaliar..."
      ]
    },
    {
      "cell_type": "code",
      "metadata": {
        "id": "k5_dwTpShyoA",
        "outputId": "99d9753a-3e45-400a-dbb1-c3690daca990",
        "colab": {
          "base_uri": "https://localhost:8080/",
          "height": 412
        }
      },
      "source": [
        "masculino_estado = dados.query('TP_SEXO == \"M\"').groupby(['SG_UF_RESIDENCIA']).count().reset_index()\n",
        "feminino_estado = dados.query('TP_SEXO == \"F\"').groupby(['SG_UF_RESIDENCIA']).count().reset_index()\n",
        "total_estado = dados.groupby(['SG_UF_RESIDENCIA']).count().reset_index()\n",
        "\n",
        "genero_estado = pd.DataFrame(data = {'Estado': total_estado['SG_UF_RESIDENCIA'],\n",
        "                                    'Proporção Feminino': (feminino_estado['NU_INSCRICAO'] / total_estado['NU_INSCRICAO']),\n",
        "                                    'Proporção Masculino': (masculino_estado['NU_INSCRICAO']/ total_estado['NU_INSCRICAO']) })\n",
        "\n",
        "genero_estado = genero_estado.sort_values(by = 'Proporção Feminino')\n",
        "\n",
        "\n",
        "genero_estado.plot.bar(stacked=True, x = 'Estado', figsize = (15,6), legend = True, color = {'Proporção Feminino': '#006598', 'Proporção Masculino': '#3c948b'}, width = 0.9)\n",
        "plt.legend(['Feminino', 'Masculino'], bbox_to_anchor=(1, 1), loc='upper left')"
      ],
      "execution_count": null,
      "outputs": [
        {
          "output_type": "execute_result",
          "data": {
            "text/plain": [
              "<matplotlib.legend.Legend at 0x7f6403b40da0>"
            ]
          },
          "metadata": {
            "tags": []
          },
          "execution_count": 54
        },
        {
          "output_type": "display_data",
          "data": {
            "image/png": "[encoded data removed]",
            "text/plain": [
              "<Figure size 1080x432 with 1 Axes>"
            ]
          },
          "metadata": {
            "tags": [],
            "needs_background": "light"
          }
        }
      ]
    },
    {
      "cell_type": "code",
      "metadata": {
        "id": "zEBjt12UtJUR",
        "outputId": "16d7f14e-3a92-41b3-e614-a8080b6f647c",
        "colab": {
          "base_uri": "https://localhost:8080/",
          "height": 34
        }
      },
      "source": [
        "print('A proporção de candidatas mulheres variou de {:.2f} a {:.2f}.'.format(genero_estado['Proporção Feminino'].min(), genero_estado['Proporção Feminino'].max()))"
      ],
      "execution_count": null,
      "outputs": [
        {
          "output_type": "stream",
          "text": [
            "A proporção de candidatas mulheres variou de 0.53 a 0.63.\n"
          ],
          "name": "stdout"
        }
      ]
    },
    {
      "cell_type": "markdown",
      "metadata": {
        "id": "QQJ1Hf0juVeC"
      },
      "source": [
        "Em todos os estados as mulheres são maioria estre os candidatos, variando essa proporção entre 53% e 63% dos candidatos de cada estado."
      ]
    },
    {
      "cell_type": "markdown",
      "metadata": {
        "id": "EXshT_KA-Agx"
      },
      "source": [
        "\n",
        "\n",
        "\n",
        "\n",
        "\n",
        "---\n",
        "\n",
        "\n",
        "\n",
        "**Curiosidade!** 😯\n",
        "\n",
        "793 municípios só tiveram inscritas mulheres e 296 municípios só tiveram inscritos homens!"
      ]
    },
    {
      "cell_type": "code",
      "metadata": {
        "id": "amt9MhZayyal",
        "outputId": "b5971334-7cea-4a30-c3da-d09a0fa51b5b",
        "colab": {
          "base_uri": "https://localhost:8080/",
          "height": 70
        }
      },
      "source": [
        "municipios_feminino = dados.query('TP_SEXO == \"F\"').groupby('NO_MUNICIPIO_RESIDENCIA').count().sort_values(by = 'NU_INSCRICAO')\n",
        "municipios_feminino = municipios_feminino['NU_INSCRICAO'].to_frame()\n",
        "\n",
        "municipios_masculino = dados.query('TP_SEXO == \"M\"').groupby('NO_MUNICIPIO_RESIDENCIA').count().sort_values(by = 'NU_INSCRICAO')\n",
        "municipios_masculino = municipios_masculino['NU_INSCRICAO'].to_frame()\n",
        "\n",
        "municipios_genero = pd.concat([municipios_feminino, municipios_masculino], axis=1, sort=False)\n",
        "municipios_genero.columns = ['Quantidade_Mulheres', 'Quantidade_Homens']\n",
        "municipios_genero.fillna(0, inplace = True)\n",
        "\n",
        "print('Número total de municípios de residência diferentes = {}'.format(len(dados['NO_MUNICIPIO_RESIDENCIA'].unique())))\n",
        "print('Municípios dos quais só há candidatos homens = {}'.format(len(municipios_genero.query('Quantidade_Mulheres == 0'))))\n",
        "print('Municípios dos quais só há candidatos mulheres = {}'.format(len(municipios_genero.query('Quantidade_Homens == 0'))))"
      ],
      "execution_count": null,
      "outputs": [
        {
          "output_type": "stream",
          "text": [
            "Número total de municípios de residência diferentes = 4889\n",
            "Municípios dos quais só há candidatos homens = 296\n",
            "Municípios dos quais só há candidatos mulheres = 793\n"
          ],
          "name": "stdout"
        }
      ]
    },
    {
      "cell_type": "markdown",
      "metadata": {
        "id": "sMXDZp0_E4-m"
      },
      "source": [
        "---\n",
        "\n",
        "\n",
        "\n",
        "🏳️‍🌈    🏳️‍🌈    🏳️‍🌈    🏳️‍🌈\n",
        "\n",
        "Outra informação interessante que conseguimos extrair dos dados do Enem é o número de candidatos que adotam o nome social.\n",
        "\n",
        "O uso do nome social é adotado por pessoas transexuais e é um importante elemento da sua identidade.\n",
        "\n",
        "Para a amostra de dados em análise, 10 pessoas adotaram o uso do nome social."
      ]
    },
    {
      "cell_type": "code",
      "metadata": {
        "id": "jEDzYwk0Es4r",
        "outputId": "ff4eb307-1579-4d30-cad0-ed3a406b1717",
        "colab": {
          "base_uri": "https://localhost:8080/",
          "height": 34
        }
      },
      "source": [
        "print('{} candidatos ({:.3f}% do total) adotaram o uso do nome social.'.format(len(dados.query('IN_NOME_SOCIAL == 1')),(len(dados.query('IN_NOME_SOCIAL == 1'))/len(dados)*100)))"
      ],
      "execution_count": null,
      "outputs": [
        {
          "output_type": "stream",
          "text": [
            "10 candidatos (0.008% do total) adotaram o uso do nome social.\n"
          ],
          "name": "stdout"
        }
      ]
    },
    {
      "cell_type": "markdown",
      "metadata": {
        "id": "DDLIj6SYHU7q"
      },
      "source": [
        "A evasão escolar infelizmente é muito presente dentro da população de travestis e transexuais devido à exclusão familiar e social.\n",
        "\n",
        "\n",
        "Estima-se que, em 2018 no Brasil, **apenas 0,02% da população trans estavam na universidade**, 72% não possuíam ensino médio e 56% não completaram o ensino fundamental. [Fonte](https://exame.com/carreira/onde-estao-os-travestis-e-transexuais/)\n",
        "\n",
        "Como se trata de uma amostra muito pequena, essa característica não será utilizada na análise da nota nas provas."
      ]
    },
    {
      "cell_type": "markdown",
      "metadata": {
        "id": "zNyXFuecIUci"
      },
      "source": [
        "###Influência do Gênero nas Notas"
      ]
    },
    {
      "cell_type": "markdown",
      "metadata": {
        "id": "qkHN5A2MxFX3"
      },
      "source": [
        "Analisando agora a nota total no exame, há diferença entre os resultados obtidos por mulheres e homens?\n",
        "\n",
        "Bora analisar...\n",
        "\n",
        "\n",
        "❕ Observação: a nota total foi calculada como a soma das notas de todas as provas."
      ]
    },
    {
      "cell_type": "code",
      "metadata": {
        "id": "iVzEWNd8uzGP",
        "outputId": "106e5208-edde-4131-dbcb-c309f5106dbd",
        "colab": {
          "base_uri": "https://localhost:8080/",
          "height": 136
        }
      },
      "source": [
        "dados_sem_nota_zero.groupby('TP_SEXO')['NU_NOTA_TOTAL'].describe()"
      ],
      "execution_count": null,
      "outputs": [
        {
          "output_type": "execute_result",
          "data": {
            "text/html": [
              "<div>\n",
              "<style scoped>\n",
              "    .dataframe tbody tr th:only-of-type {\n",
              "        vertical-align: middle;\n",
              "    }\n",
              "\n",
              "    .dataframe tbody tr th {\n",
              "        vertical-align: top;\n",
              "    }\n",
              "\n",
              "    .dataframe thead th {\n",
              "        text-align: right;\n",
              "    }\n",
              "</style>\n",
              "<table border=\"1\" class=\"dataframe\">\n",
              "  <thead>\n",
              "    <tr style=\"text-align: right;\">\n",
              "      <th></th>\n",
              "      <th>count</th>\n",
              "      <th>mean</th>\n",
              "      <th>std</th>\n",
              "      <th>min</th>\n",
              "      <th>25%</th>\n",
              "      <th>50%</th>\n",
              "      <th>75%</th>\n",
              "      <th>max</th>\n",
              "    </tr>\n",
              "    <tr>\n",
              "      <th>TP_SEXO</th>\n",
              "      <th></th>\n",
              "      <th></th>\n",
              "      <th></th>\n",
              "      <th></th>\n",
              "      <th></th>\n",
              "      <th></th>\n",
              "      <th></th>\n",
              "      <th></th>\n",
              "    </tr>\n",
              "  </thead>\n",
              "  <tbody>\n",
              "    <tr>\n",
              "      <th>F</th>\n",
              "      <td>58548.0</td>\n",
              "      <td>2515.627871</td>\n",
              "      <td>494.526429</td>\n",
              "      <td>322.0</td>\n",
              "      <td>2254.2</td>\n",
              "      <td>2513.8</td>\n",
              "      <td>2818.900</td>\n",
              "      <td>4106.2</td>\n",
              "    </tr>\n",
              "    <tr>\n",
              "      <th>M</th>\n",
              "      <td>39670.0</td>\n",
              "      <td>2581.898167</td>\n",
              "      <td>517.088529</td>\n",
              "      <td>220.0</td>\n",
              "      <td>2289.7</td>\n",
              "      <td>2599.0</td>\n",
              "      <td>2918.775</td>\n",
              "      <td>4164.1</td>\n",
              "    </tr>\n",
              "  </tbody>\n",
              "</table>\n",
              "</div>"
            ],
            "text/plain": [
              "           count         mean         std  ...     50%       75%     max\n",
              "TP_SEXO                                    ...                          \n",
              "F        58548.0  2515.627871  494.526429  ...  2513.8  2818.900  4106.2\n",
              "M        39670.0  2581.898167  517.088529  ...  2599.0  2918.775  4164.1\n",
              "\n",
              "[2 rows x 8 columns]"
            ]
          },
          "metadata": {
            "tags": []
          },
          "execution_count": 58
        }
      ]
    },
    {
      "cell_type": "code",
      "metadata": {
        "id": "gvTL1av2I1V5",
        "outputId": "e9dd08bb-5411-4f2e-c4ec-56741fc4c32e",
        "colab": {
          "base_uri": "https://localhost:8080/",
          "height": 514
        }
      },
      "source": [
        "fig, ax = plt.subplots(1,2, sharey = 'row', figsize = (18,7))\n",
        "plt.subplots_adjust(wspace = .02)\n",
        "\n",
        "sns.boxplot(data = dados_sem_nota_zero, x = 'TP_SEXO', y = 'NU_NOTA_TOTAL', palette = 'crest', ax = ax[0])\n",
        "sns.histplot(data = dados_sem_nota_zero, hue = 'TP_SEXO', y = 'NU_NOTA_TOTAL', legend = True, ax = ax[1], palette = 'crest', alpha = 1)\n",
        "ax[0].set_xlabel('Gênero', fontsize = 'large')\n",
        "\n",
        "ax[0].set_ylabel('Nota Total', fontsize = 'large')\n",
        "ax[1].set_ylabel(None)\n",
        "ax[1].set_xlabel('Frequência', fontsize = 'large')\n",
        "ax[1].legend(['Feminino','Masculino'])\n",
        "\n",
        "plt.suptitle('Nota Total por Gênero', fontsize =  '18')"
      ],
      "execution_count": null,
      "outputs": [
        {
          "output_type": "execute_result",
          "data": {
            "text/plain": [
              "Text(0.5, 0.98, 'Nota Total por Gênero')"
            ]
          },
          "metadata": {
            "tags": []
          },
          "execution_count": 105
        },
        {
          "output_type": "display_data",
          "data": {
            "image/png": "[encoded data removed]",
            "text/plain": [
              "<Figure size 1296x504 with 2 Axes>"
            ]
          },
          "metadata": {
            "tags": [],
            "needs_background": "light"
          }
        }
      ]
    },
    {
      "cell_type": "markdown",
      "metadata": {
        "id": "yzpKLi6WxQG2"
      },
      "source": [
        "Pelo gráfico acima, notamos que a média e a mediana na nota total das mulheres fica um pouco abaixo da dos homens.\n",
        "\n",
        "Na média, elas obtêm **65 pontos a menos** que homens."
      ]
    },
    {
      "cell_type": "markdown",
      "metadata": {
        "id": "F6xdApGgIZBx"
      },
      "source": [
        "---\n",
        "Será que esse padrão se mantém em todas as provas? 🤔\n",
        "\n",
        "Para responder essa pergunta, analisei separadamente as notas de cada prova:"
      ]
    },
    {
      "cell_type": "code",
      "metadata": {
        "id": "2PgpUxRQIiS4",
        "outputId": "a5bd89d9-5859-4308-b307-f283747c31ea",
        "colab": {
          "base_uri": "https://localhost:8080/",
          "height": 514
        }
      },
      "source": [
        "fig, ax = plt.subplots(1,5, sharey = 'row', figsize = (20,7))\n",
        "#plt.subplots_adjust(wspace = .02)\n",
        "\n",
        "sns.boxplot(data = dados_sem_nota_zero, x = 'TP_SEXO', y = 'NU_NOTA_CH', palette = 'crest', ax = ax[0])\n",
        "sns.boxplot(data = dados_sem_nota_zero, x = 'TP_SEXO', y = 'NU_NOTA_LC', palette = 'crest', ax = ax[1])\n",
        "sns.boxplot(data = dados_sem_nota_zero, x = 'TP_SEXO', y = 'NU_NOTA_CN', palette = 'crest', ax = ax[2])\n",
        "sns.boxplot(data = dados_sem_nota_zero, x = 'TP_SEXO', y = 'NU_NOTA_MT', palette = 'crest', ax = ax[3])\n",
        "sns.boxplot(data = dados_sem_nota_zero, x = 'TP_SEXO', y = 'NU_NOTA_REDACAO', palette = 'crest', ax = ax[4])\n",
        "\n",
        "for i in range(5):\n",
        "  ax[i].set_xlabel('Gênero', fontsize = 'large')\n",
        "  ax[i].set_ylabel(None)\n",
        "\n",
        "ax[0].set_ylabel('Nota Total', fontsize = 'large')\n",
        "\n",
        "ax[0].set_title('Ciências Humanas', fontsize = '14')\n",
        "ax[1].set_title('Linguagens e Códigos', fontsize = '14')\n",
        "ax[2].set_title('Ciências da Natureza', fontsize = '14')\n",
        "ax[3].set_title('Matemática', fontsize = '14')\n",
        "ax[4].set_title('Redação', fontsize = '14')\n",
        "\n",
        "plt.suptitle('Nota em Cada Prova por Gênero', fontsize =  '18')"
      ],
      "execution_count": null,
      "outputs": [
        {
          "output_type": "execute_result",
          "data": {
            "text/plain": [
              "Text(0.5, 0.98, 'Nota em Cada Prova por Gênero')"
            ]
          },
          "metadata": {
            "tags": []
          },
          "execution_count": 62
        },
        {
          "output_type": "display_data",
          "data": {
            "image/png": "[encoded data removed]",
            "text/plain": [
              "<Figure size 1440x504 with 5 Axes>"
            ]
          },
          "metadata": {
            "tags": [],
            "needs_background": "light"
          }
        }
      ]
    },
    {
      "cell_type": "markdown",
      "metadata": {
        "id": "k5gCNf4jRxtT"
      },
      "source": [
        "Com a análise visual as provas em que há maior diferença entre notas de mulheres e homens são \"Ciências da Natureza\" e \"Matemática\". Para as demais provas as notas são mais próximas entre os dois grupos.\n",
        "\n",
        "Analisando numericamente..."
      ]
    },
    {
      "cell_type": "code",
      "metadata": {
        "id": "ThV96uu3RPk2",
        "outputId": "6f123971-ae53-4d11-a31b-6b2845dadf16",
        "colab": {
          "base_uri": "https://localhost:8080/",
          "height": 186
        }
      },
      "source": [
        "dados_sem_nota_zero.groupby('TP_SEXO')[provas].describe()"
      ],
      "execution_count": null,
      "outputs": [
        {
          "output_type": "execute_result",
          "data": {
            "text/html": [
              "<div>\n",
              "<style scoped>\n",
              "    .dataframe tbody tr th:only-of-type {\n",
              "        vertical-align: middle;\n",
              "    }\n",
              "\n",
              "    .dataframe tbody tr th {\n",
              "        vertical-align: top;\n",
              "    }\n",
              "\n",
              "    .dataframe thead tr th {\n",
              "        text-align: left;\n",
              "    }\n",
              "\n",
              "    .dataframe thead tr:last-of-type th {\n",
              "        text-align: right;\n",
              "    }\n",
              "</style>\n",
              "<table border=\"1\" class=\"dataframe\">\n",
              "  <thead>\n",
              "    <tr>\n",
              "      <th></th>\n",
              "      <th colspan=\"8\" halign=\"left\">NU_NOTA_REDACAO</th>\n",
              "      <th colspan=\"8\" halign=\"left\">NU_NOTA_CH</th>\n",
              "      <th colspan=\"8\" halign=\"left\">NU_NOTA_CN</th>\n",
              "      <th colspan=\"8\" halign=\"left\">NU_NOTA_MT</th>\n",
              "      <th colspan=\"8\" halign=\"left\">NU_NOTA_LC</th>\n",
              "    </tr>\n",
              "    <tr>\n",
              "      <th></th>\n",
              "      <th>count</th>\n",
              "      <th>mean</th>\n",
              "      <th>std</th>\n",
              "      <th>min</th>\n",
              "      <th>25%</th>\n",
              "      <th>50%</th>\n",
              "      <th>75%</th>\n",
              "      <th>max</th>\n",
              "      <th>count</th>\n",
              "      <th>mean</th>\n",
              "      <th>std</th>\n",
              "      <th>min</th>\n",
              "      <th>25%</th>\n",
              "      <th>50%</th>\n",
              "      <th>75%</th>\n",
              "      <th>max</th>\n",
              "      <th>count</th>\n",
              "      <th>mean</th>\n",
              "      <th>std</th>\n",
              "      <th>min</th>\n",
              "      <th>25%</th>\n",
              "      <th>50%</th>\n",
              "      <th>75%</th>\n",
              "      <th>max</th>\n",
              "      <th>count</th>\n",
              "      <th>mean</th>\n",
              "      <th>std</th>\n",
              "      <th>min</th>\n",
              "      <th>25%</th>\n",
              "      <th>50%</th>\n",
              "      <th>75%</th>\n",
              "      <th>max</th>\n",
              "      <th>count</th>\n",
              "      <th>mean</th>\n",
              "      <th>std</th>\n",
              "      <th>min</th>\n",
              "      <th>25%</th>\n",
              "      <th>50%</th>\n",
              "      <th>75%</th>\n",
              "      <th>max</th>\n",
              "    </tr>\n",
              "    <tr>\n",
              "      <th>TP_SEXO</th>\n",
              "      <th></th>\n",
              "      <th></th>\n",
              "      <th></th>\n",
              "      <th></th>\n",
              "      <th></th>\n",
              "      <th></th>\n",
              "      <th></th>\n",
              "      <th></th>\n",
              "      <th></th>\n",
              "      <th></th>\n",
              "      <th></th>\n",
              "      <th></th>\n",
              "      <th></th>\n",
              "      <th></th>\n",
              "      <th></th>\n",
              "      <th></th>\n",
              "      <th></th>\n",
              "      <th></th>\n",
              "      <th></th>\n",
              "      <th></th>\n",
              "      <th></th>\n",
              "      <th></th>\n",
              "      <th></th>\n",
              "      <th></th>\n",
              "      <th></th>\n",
              "      <th></th>\n",
              "      <th></th>\n",
              "      <th></th>\n",
              "      <th></th>\n",
              "      <th></th>\n",
              "      <th></th>\n",
              "      <th></th>\n",
              "      <th></th>\n",
              "      <th></th>\n",
              "      <th></th>\n",
              "      <th></th>\n",
              "      <th></th>\n",
              "      <th></th>\n",
              "      <th></th>\n",
              "      <th></th>\n",
              "    </tr>\n",
              "  </thead>\n",
              "  <tbody>\n",
              "    <tr>\n",
              "      <th>F</th>\n",
              "      <td>58434.0</td>\n",
              "      <td>577.761919</td>\n",
              "      <td>187.318067</td>\n",
              "      <td>0.0</td>\n",
              "      <td>480.0</td>\n",
              "      <td>580.0</td>\n",
              "      <td>680.0</td>\n",
              "      <td>1000.0</td>\n",
              "      <td>58434.0</td>\n",
              "      <td>501.940873</td>\n",
              "      <td>79.759039</td>\n",
              "      <td>0.0</td>\n",
              "      <td>444.8</td>\n",
              "      <td>504.7</td>\n",
              "      <td>559.1</td>\n",
              "      <td>791.8</td>\n",
              "      <td>55112.0</td>\n",
              "      <td>470.103115</td>\n",
              "      <td>73.424372</td>\n",
              "      <td>0.0</td>\n",
              "      <td>412.9</td>\n",
              "      <td>461.3</td>\n",
              "      <td>521.3</td>\n",
              "      <td>792.0</td>\n",
              "      <td>55112.0</td>\n",
              "      <td>506.479364</td>\n",
              "      <td>101.035249</td>\n",
              "      <td>0.0</td>\n",
              "      <td>427.1</td>\n",
              "      <td>484.2</td>\n",
              "      <td>569.7</td>\n",
              "      <td>963.0</td>\n",
              "      <td>58434.0</td>\n",
              "      <td>519.769552</td>\n",
              "      <td>61.83717</td>\n",
              "      <td>0.0</td>\n",
              "      <td>484.2</td>\n",
              "      <td>524.0</td>\n",
              "      <td>562.3</td>\n",
              "      <td>801.7</td>\n",
              "    </tr>\n",
              "    <tr>\n",
              "      <th>M</th>\n",
              "      <td>39568.0</td>\n",
              "      <td>563.018095</td>\n",
              "      <td>188.049084</td>\n",
              "      <td>0.0</td>\n",
              "      <td>480.0</td>\n",
              "      <td>580.0</td>\n",
              "      <td>660.0</td>\n",
              "      <td>980.0</td>\n",
              "      <td>39568.0</td>\n",
              "      <td>515.903334</td>\n",
              "      <td>85.329108</td>\n",
              "      <td>0.0</td>\n",
              "      <td>453.9</td>\n",
              "      <td>522.0</td>\n",
              "      <td>578.3</td>\n",
              "      <td>809.4</td>\n",
              "      <td>37641.0</td>\n",
              "      <td>489.537026</td>\n",
              "      <td>78.719663</td>\n",
              "      <td>0.0</td>\n",
              "      <td>427.5</td>\n",
              "      <td>484.7</td>\n",
              "      <td>547.9</td>\n",
              "      <td>797.3</td>\n",
              "      <td>37641.0</td>\n",
              "      <td>548.626314</td>\n",
              "      <td>116.037709</td>\n",
              "      <td>0.0</td>\n",
              "      <td>452.2</td>\n",
              "      <td>535.1</td>\n",
              "      <td>632.7</td>\n",
              "      <td>985.0</td>\n",
              "      <td>39568.0</td>\n",
              "      <td>522.028682</td>\n",
              "      <td>66.30027</td>\n",
              "      <td>0.0</td>\n",
              "      <td>483.1</td>\n",
              "      <td>529.5</td>\n",
              "      <td>569.3</td>\n",
              "      <td>747.3</td>\n",
              "    </tr>\n",
              "  </tbody>\n",
              "</table>\n",
              "</div>"
            ],
            "text/plain": [
              "        NU_NOTA_REDACAO                          ... NU_NOTA_LC              \n",
              "                  count        mean         std  ...        50%    75%    max\n",
              "TP_SEXO                                          ...                         \n",
              "F               58434.0  577.761919  187.318067  ...      524.0  562.3  801.7\n",
              "M               39568.0  563.018095  188.049084  ...      529.5  569.3  747.3\n",
              "\n",
              "[2 rows x 40 columns]"
            ]
          },
          "metadata": {
            "tags": []
          },
          "execution_count": 63
        }
      ]
    },
    {
      "cell_type": "code",
      "metadata": {
        "id": "Y5FigLrIS4Pr",
        "outputId": "5d024b75-3bc9-4228-b429-c6bd5b5eca8b",
        "colab": {
          "base_uri": "https://localhost:8080/",
          "height": 34
        }
      },
      "source": [
        "len(dados_sem_nota_zero.query('TP_SEXO == \"F\" & NU_NOTA_REDACAO == 1000'))"
      ],
      "execution_count": null,
      "outputs": [
        {
          "output_type": "execute_result",
          "data": {
            "text/plain": [
              "2"
            ]
          },
          "metadata": {
            "tags": []
          },
          "execution_count": 64
        }
      ]
    },
    {
      "cell_type": "markdown",
      "metadata": {
        "id": "La1kScc5RwpN"
      },
      "source": [
        "Temos os seguintes resultados...\n",
        "\n",
        "📝 A prova de **Redação** foi a única em que as mulheres apresentaram média superior. É interessante notar que nenhum homem obteve nota 1000, já entre as mulheres houve duas notas máximas.\n",
        "\n",
        "Nas demais provas as médias dos homens foram maiores."
      ]
    },
    {
      "cell_type": "markdown",
      "metadata": {
        "id": "ktldVtLRjkrs"
      },
      "source": [
        "Pesquisas realizadas pela Organização para a Educação, a Ciência e a Cultura (Unesco) apontam uma **prevalência masculina de 65%** nas áreas **STEM**, sigla em inglês para ciência, tecnologia, engenharias e matemática. \n",
        "\n",
        "Diferença essa explicada em grande parte pelos esteriótipos de gênero que geram insegurança nas mulheres em relação às exatas e até mesmo uma baixa expectativa nos docentes, impactando o desempenho feminino nessas áreas do conhecimento. [Fonte](https://www.institutounibanco.org.br/aprendizagem-em-foco/39/)\n",
        "\n",
        "\n",
        "\n",
        "---\n",
        "\n",
        "\n",
        "\n",
        "---\n",
        "\n"
      ]
    },
    {
      "cell_type": "markdown",
      "metadata": {
        "id": "G8nuBsWVbZaK"
      },
      "source": [
        "##Renda Familiar"
      ]
    },
    {
      "cell_type": "markdown",
      "metadata": {
        "id": "v1NL5dUZmT9S"
      },
      "source": [
        "💵💸💵💸💵\n",
        "\n",
        "O próximo item analisado foi a relação entre a renda familiar dos candidatos e seu desempenho na prova.\n",
        "\n",
        "Será que quem tem mais dinheiro tira maiores notas?\n",
        "\n",
        "No gráfico abaixo faço essa comparação, onde A (nenhuma renda) e Q (mais de R$ 19.960,00) correspondem à menor faixa de renda e à maior, respectivamente."
      ]
    },
    {
      "cell_type": "code",
      "metadata": {
        "id": "Ls2bTTiG_yus",
        "outputId": "36f55c5a-cd27-49f2-fa1b-f24b073e43ad",
        "colab": {
          "base_uri": "https://localhost:8080/",
          "height": 458
        }
      },
      "source": [
        "plt.figure(figsize=(20, 7))\n",
        "\n",
        "sns.boxplot(data = dados_sem_nota_zero, x = 'Q006', y = 'NU_NOTA_TOTAL', palette = 'crest', order = ['A','B','C','D','E','F','G','H','I','J','K','L','M','N','O','P','Q'])\n",
        "\n",
        "plt.title('Nota Total por Renda Familiar', fontsize =  '18')\n",
        "plt.xlabel('Faixa de Renda Mensal Familiar', fontsize = 'large')\n",
        "plt.ylabel('Nota Total', fontsize = 'large')"
      ],
      "execution_count": null,
      "outputs": [
        {
          "output_type": "execute_result",
          "data": {
            "text/plain": [
              "Text(0, 0.5, 'Nota Total')"
            ]
          },
          "metadata": {
            "tags": []
          },
          "execution_count": 113
        },
        {
          "output_type": "display_data",
          "data": {
            "image/png": "[encoded data removed]",
            "text/plain": [
              "<Figure size 1440x504 with 1 Axes>"
            ]
          },
          "metadata": {
            "tags": [],
            "needs_background": "light"
          }
        }
      ]
    },
    {
      "cell_type": "markdown",
      "metadata": {
        "id": "dDDrgO92GUiN"
      },
      "source": [
        "A relação entre as notas dos candidatos e sua faixa de renda familiar fica bem \"na cara\".\n",
        "\n",
        "**Candidatos de renda familiar mais elevada, tendem a alcançar notas mais altas.**\n",
        "\n",
        "Infelizmente, não é uma grande surpresa.\n",
        "\n",
        "Estudantes com melhores condições econômicas têm acesso a uma educação de qualidade superior e condições ambientais mais favoráveis (ex: não terem que trabalhar para ajudar no sustento da família, terem menor participação nas tarefas domésticas, viverem em áreas menos violentas)."
      ]
    },
    {
      "cell_type": "markdown",
      "metadata": {
        "id": "_C3nKmlMGSXm"
      },
      "source": [
        "\n",
        "\n",
        "---\n",
        "\n",
        "\n",
        "\n",
        "\n",
        "\n",
        "Adicionando a essa análise o gênero dos candidatos:"
      ]
    },
    {
      "cell_type": "code",
      "metadata": {
        "id": "nY2i0lxuFk7R",
        "outputId": "1a818df4-172a-4da8-8e48-5fcaed9b44d2",
        "colab": {
          "base_uri": "https://localhost:8080/",
          "height": 458
        }
      },
      "source": [
        "plt.figure(figsize=(20, 7))\n",
        "\n",
        "sns.boxplot(data = dados_sem_nota_zero, x = 'Q006', y = 'NU_NOTA_TOTAL', palette = 'crest', order = ['A','B','C','D','E','F','G','H','I','J','K','L','M','N','O','P','Q'], hue = 'TP_SEXO')\n",
        "\n",
        "plt.title('Nota Total por Renda Familiar', fontsize =  '18')\n",
        "plt.xlabel('Faixa de Renda Mensal Familiar', fontsize = 'large')\n",
        "plt.ylabel('Nota Total', fontsize = 'large')\n",
        "\n",
        "#plt.legend(['Legenda', 'Feminino', 'Masculino'], bbox_to_anchor=(1, 1), loc='upper left')"
      ],
      "execution_count": null,
      "outputs": [
        {
          "output_type": "execute_result",
          "data": {
            "text/plain": [
              "Text(0, 0.5, 'Nota Total')"
            ]
          },
          "metadata": {
            "tags": []
          },
          "execution_count": 96
        },
        {
          "output_type": "display_data",
          "data": {
            "image/png": "[encoded data removed]",
            "text/plain": [
              "<Figure size 1440x504 with 1 Axes>"
            ]
          },
          "metadata": {
            "tags": [],
            "needs_background": "light"
          }
        }
      ]
    },
    {
      "cell_type": "markdown",
      "metadata": {
        "id": "VlELGKGeocOi"
      },
      "source": [
        "Notamos que para os grupos de renda mais baixa a diferença entre a nota de mulheres e homens é maior, sendo que elas tiram as notas mais baixas.\n",
        "\n",
        "A partir da classe \"H\" (renda de 3992,01 até 4.990,00 reais) essa diferença é menos acentuada. Para algumas classes temos notas praticamente iguais.\n",
        "\n",
        "Essa diferença pode ser um reflexo da maior carga de trabalhos domésticos que é delegada às meninas/mulheres frente aos meninos/homens, com peso maior nas famílias de menor renda.\n",
        "\n",
        "**Na média as mulheres passam 72% de tempo a mais que os homens realizando tarefas domésticas.** 🙍 [Fonte](https://educa.ibge.gov.br/jovens/materias-especiais/materias-especiais/20453-estatisticas-de-genero-indicadores-sociais-das-mulheres-no-brasil.html)\n",
        "\n",
        "\n",
        "\n",
        "---\n",
        "\n"
      ]
    },
    {
      "cell_type": "markdown",
      "metadata": {
        "id": "-GZxR96XqUu5"
      },
      "source": [
        "👨‍🎓 👩‍🎓\n",
        "\n",
        "Outro dado analisado foi o nível de instrução dos pais dos candidatos.\n",
        "\n",
        "Os resultados foram os seguintes:"
      ]
    },
    {
      "cell_type": "code",
      "metadata": {
        "id": "HVq9BNZZacxY",
        "outputId": "e3c02d0f-3d7e-4400-aa93-55216945c38d",
        "colab": {
          "base_uri": "https://localhost:8080/",
          "height": 254
        }
      },
      "source": [
        "legenda_instrucao = pd.DataFrame(index = ['A','B','C','D','E','F','G'],\n",
        "                                 data = {'Legenda': ['Nunca estudou',\n",
        "                                                     'Não completou a 4ª série/5º ano do Ensino Fundamental',\n",
        "                                                     'Completou a 4ª série/5º ano, mas não completou a 8ª série/9º ano do Ensino Fundamental',\n",
        "                                                     'Completou a 8ª série/9º ano do Ensino Fundamental, mas não completou o Ensino Médio',\n",
        "                                                     'Completou o Ensino Médio, mas não completou a Faculdade',\n",
        "                                                     'Completou a Faculdade, mas não completou a Pós-graduação',\n",
        "                                                     'Completou a Pós-graduação']})\n",
        "legenda_instrucao"
      ],
      "execution_count": null,
      "outputs": [
        {
          "output_type": "execute_result",
          "data": {
            "text/html": [
              "<div>\n",
              "<style scoped>\n",
              "    .dataframe tbody tr th:only-of-type {\n",
              "        vertical-align: middle;\n",
              "    }\n",
              "\n",
              "    .dataframe tbody tr th {\n",
              "        vertical-align: top;\n",
              "    }\n",
              "\n",
              "    .dataframe thead th {\n",
              "        text-align: right;\n",
              "    }\n",
              "</style>\n",
              "<table border=\"1\" class=\"dataframe\">\n",
              "  <thead>\n",
              "    <tr style=\"text-align: right;\">\n",
              "      <th></th>\n",
              "      <th>Legenda</th>\n",
              "    </tr>\n",
              "  </thead>\n",
              "  <tbody>\n",
              "    <tr>\n",
              "      <th>A</th>\n",
              "      <td>Nunca estudou</td>\n",
              "    </tr>\n",
              "    <tr>\n",
              "      <th>B</th>\n",
              "      <td>Não completou a 4ª série/5º ano do Ensino Fund...</td>\n",
              "    </tr>\n",
              "    <tr>\n",
              "      <th>C</th>\n",
              "      <td>Completou a 4ª série/5º ano, mas não completou...</td>\n",
              "    </tr>\n",
              "    <tr>\n",
              "      <th>D</th>\n",
              "      <td>Completou a 8ª série/9º ano do Ensino Fundamen...</td>\n",
              "    </tr>\n",
              "    <tr>\n",
              "      <th>E</th>\n",
              "      <td>Completou o Ensino Médio, mas não completou a ...</td>\n",
              "    </tr>\n",
              "    <tr>\n",
              "      <th>F</th>\n",
              "      <td>Completou a Faculdade, mas não completou a Pós...</td>\n",
              "    </tr>\n",
              "    <tr>\n",
              "      <th>G</th>\n",
              "      <td>Completou a Pós-graduação</td>\n",
              "    </tr>\n",
              "  </tbody>\n",
              "</table>\n",
              "</div>"
            ],
            "text/plain": [
              "                                             Legenda\n",
              "A                                      Nunca estudou\n",
              "B  Não completou a 4ª série/5º ano do Ensino Fund...\n",
              "C  Completou a 4ª série/5º ano, mas não completou...\n",
              "D  Completou a 8ª série/9º ano do Ensino Fundamen...\n",
              "E  Completou o Ensino Médio, mas não completou a ...\n",
              "F  Completou a Faculdade, mas não completou a Pós...\n",
              "G                          Completou a Pós-graduação"
            ]
          },
          "metadata": {
            "tags": []
          },
          "execution_count": 114
        }
      ]
    },
    {
      "cell_type": "code",
      "metadata": {
        "id": "fyAR9V79H5VQ",
        "outputId": "a164e823-2053-4ab6-d9ff-050bb6e7db2e",
        "colab": {
          "base_uri": "https://localhost:8080/",
          "height": 487
        }
      },
      "source": [
        "fig, ax = plt.subplots(1,2, sharey='row', figsize = (20,7))\n",
        "plt.subplots_adjust(wspace = .05)\n",
        "\n",
        "sns.boxplot(data = dados_sem_nota_zero, x = 'Q001', y = 'NU_NOTA_TOTAL', order=['A','B','C','D','E','F','G'], ax = ax[0], palette = 'crest')\n",
        "sns.boxplot(data = dados_sem_nota_zero , x = 'Q002', y = 'NU_NOTA_TOTAL', order=['A','B','C','D','E','F','G'], ax = ax[1], palette = 'crest')\n",
        "ax[0].set_xlabel('Nível de Instrução do Pai', fontsize = 'large')\n",
        "ax[1].set_xlabel('Nível de Instrução da Mãe', fontsize = 'large')\n",
        "\n",
        "ax[0].set_ylabel('Nota Total', fontsize = 'large')\n",
        "ax[1].set_ylabel(None)\n",
        "ax[1].tick_params(left=False, right=False)\n",
        "#ax[2].axis('off')\n",
        "#table(ax = ax[2],data = legenda_instrucao, loc='center', fontsize = '40')\n",
        "\n",
        "plt.suptitle('Nota Total vs Nível de Instrução dos Pais', fontsize =  '18')"
      ],
      "execution_count": null,
      "outputs": [
        {
          "output_type": "execute_result",
          "data": {
            "text/plain": [
              "Text(0.5, 0.98, 'Nota Total vs Nível de Instrução dos Pais')"
            ]
          },
          "metadata": {
            "tags": []
          },
          "execution_count": 67
        },
        {
          "output_type": "display_data",
          "data": {
            "image/png": "[encoded data removed]",
            "text/plain": [
              "<Figure size 1440x504 with 2 Axes>"
            ]
          },
          "metadata": {
            "tags": [],
            "needs_background": "light"
          }
        }
      ]
    },
    {
      "cell_type": "markdown",
      "metadata": {
        "id": "JWUce7C2qhxn"
      },
      "source": [
        "Os gráficos apontam que candidatos cujos pais possuem maior nível de instrução tendem a obter maiores pontuações no Enem.\n",
        "\n",
        "Essa é uma informação que está diretamente ligada com a anterior, uma vez que profissionais com maior escolaridade tendem a receber maiores e salários.\n",
        "\n",
        "Essa análise também nos mostra como a educação pública de qualidade é um dos, se não o principal mecanismo para a melhora da mobilidade econômica no Brasil.\n",
        "\n",
        "Em relatório emitido pelo Fórum Econômico Mundial **o Brasil ocupa o 60º lugar entre 82 países em um ranking que mede o índice de mobilidade social**. [Fonte](https://economia.uol.com.br/noticias/redacao/2020/01/22/ranking-social-global-brasil-mobilidade-social.htm) O mesmo relatório aponta que para quem está no nível mais baixo de renda, levariam 9 gerações até alcançar a renda média do país. 😔"
      ]
    },
    {
      "cell_type": "markdown",
      "metadata": {
        "id": "ZE4s2imNbf_Y"
      },
      "source": [
        "##Cor/Raça"
      ]
    },
    {
      "cell_type": "markdown",
      "metadata": {
        "id": "tB_Azf1CtdMX"
      },
      "source": [
        "Analisando a diferença de notas obtidas pelos inscritos agrupados por raça/cor:"
      ]
    },
    {
      "cell_type": "code",
      "metadata": {
        "id": "OqWKCCRHen4u"
      },
      "source": [
        "notas_raca = pd.DataFrame(dados_sem_nota_zero[['TP_COR_RACA', 'NU_NOTA_TOTAL','TP_SEXO']])\n",
        "nome_raca = notas_raca['TP_COR_RACA'].replace([0,1,2,3,4,5],['Não Declarada','Branca','Preta','Parda','Amarela','Indígena'])\n",
        "notas_raca['TP_COR_RACA'] = nome_raca.values"
      ],
      "execution_count": null,
      "outputs": []
    },
    {
      "cell_type": "code",
      "metadata": {
        "id": "qmcmuqnLuK9S",
        "outputId": "e14c784f-880d-4fb2-94ba-3ec53c1c4986",
        "colab": {
          "base_uri": "https://localhost:8080/",
          "height": 461
        }
      },
      "source": [
        "total_raca = pd.DataFrame(data = notas_raca['TP_COR_RACA'].value_counts())\n",
        "total_raca = total_raca.reset_index()\n",
        "total_raca['Proporção'] = total_raca['TP_COR_RACA'] / sum(total_raca['TP_COR_RACA'])\n",
        "\n",
        "plt.figure(figsize=(10, 7))\n",
        "sns.barplot(data = total_raca, x = 'index', y = 'Proporção', palette = 'crest')"
      ],
      "execution_count": null,
      "outputs": [
        {
          "output_type": "execute_result",
          "data": {
            "text/plain": [
              "<matplotlib.axes._subplots.AxesSubplot at 0x7f63eeadc048>"
            ]
          },
          "metadata": {
            "tags": []
          },
          "execution_count": 144
        },
        {
          "output_type": "display_data",
          "data": {
            "image/png": "[encoded data removed]",
            "text/plain": [
              "<Figure size 720x504 with 1 Axes>"
            ]
          },
          "metadata": {
            "tags": [],
            "needs_background": "light"
          }
        }
      ]
    },
    {
      "cell_type": "code",
      "metadata": {
        "id": "g0xU2sXiMnyt",
        "outputId": "bda1a662-ac32-4636-dbbc-e95d473985b6",
        "colab": {
          "base_uri": "https://localhost:8080/",
          "height": 484
        }
      },
      "source": [
        "plt.figure(figsize=(12, 7))\n",
        "\n",
        "sns.boxplot(data = notas_raca, x = 'TP_COR_RACA', y = 'NU_NOTA_TOTAL', palette = 'crest', order = ['Branca', 'Amarela', 'Parda', 'Preta', 'Indígena'])\n",
        "\n",
        "plt.title('Nota Total por Cor/Raça Autodeclarada', fontsize =  '18')\n",
        "plt.xlabel('Raça', fontsize = 'large')\n",
        "plt.ylabel('Nota Total', fontsize = 'large')"
      ],
      "execution_count": null,
      "outputs": [
        {
          "output_type": "execute_result",
          "data": {
            "text/plain": [
              "Text(0, 0.5, 'Nota Total')"
            ]
          },
          "metadata": {
            "tags": []
          },
          "execution_count": 87
        },
        {
          "output_type": "display_data",
          "data": {
            "image/png": "[encoded data removed]",
            "text/plain": [
              "<Figure size 864x504 with 1 Axes>"
            ]
          },
          "metadata": {
            "tags": [],
            "needs_background": "light"
          }
        }
      ]
    },
    {
      "cell_type": "markdown",
      "metadata": {
        "id": "d436Rd14toKl"
      },
      "source": [
        "Podemos observar que os candidatos declarados de cor \"Branca\" obtiveram maiores pontuações, as cores \"Amarela\", \"Parda\" e \"Preta\" ficaram em um patamar próximo e, por último, com as menores notas quem se declarou \"Indígena\"."
      ]
    },
    {
      "cell_type": "markdown",
      "metadata": {
        "id": "tuGNpqrDbrCG"
      },
      "source": [
        "##Acesso à Tecnologia"
      ]
    },
    {
      "cell_type": "markdown",
      "metadata": {
        "id": "5Kl0ZHVnWXcM"
      },
      "source": [
        "💻 📱\n",
        "\n",
        "Por último, quis trazer a análise das notas entre aqueles que têm acesso à tecnologia (celular, computador, internet) e os que não possuem.\n",
        "\n",
        "Bora lá:"
      ]
    },
    {
      "cell_type": "code",
      "metadata": {
        "id": "L23TcBB-UiFN"
      },
      "source": [
        "dados_tecnologia = pd.DataFrame(data = dados_sem_nota_zero[['Q022', 'Q024', 'Q025', 'NU_NOTA_TOTAL']])\n",
        "\n",
        "q022 = dados_tecnologia['Q022'].replace(['A','B','C','D','E'],['Não','Sim','Sim','Sim','Sim'])\n",
        "dados_tecnologia['Q022'] = q022.values\n",
        "\n",
        "q024 = dados_tecnologia['Q024'].replace(['A','B','C','D','E'],['Não','Sim','Sim','Sim','Sim'])\n",
        "dados_tecnologia['Q024'] = q024.values\n",
        "\n",
        "q025 = dados_tecnologia['Q025'].replace(['A','B'],['Não','Sim'])\n",
        "dados_tecnologia['Q025'] = q025.values"
      ],
      "execution_count": null,
      "outputs": []
    },
    {
      "cell_type": "code",
      "metadata": {
        "id": "C7hrOmQ_JRkM",
        "outputId": "71e2dcce-9924-4c01-b259-420c3657b5b5",
        "colab": {
          "base_uri": "https://localhost:8080/",
          "height": 497
        }
      },
      "source": [
        "fig, ax = plt.subplots(1,3, sharey = 'row', figsize = (20,7))\n",
        "plt.subplots_adjust(wspace = .02)\n",
        "\n",
        "sns.boxplot(data = dados_tecnologia, x = 'Q022', y = 'NU_NOTA_TOTAL', palette = 'crest', ax = ax[0])\n",
        "sns.boxplot(data = dados_tecnologia, x = 'Q024', y = 'NU_NOTA_TOTAL', palette = 'crest', ax = ax[1])\n",
        "sns.boxplot(data = dados_tecnologia, x = 'Q025', y = 'NU_NOTA_TOTAL', palette = 'crest', ax = ax[2])\n",
        "\n",
        "for i in range(3):\n",
        "  ax[i].set_xlabel(None)\n",
        "  ax[i].set_ylabel(None)\n",
        "\n",
        "ax[0].set_ylabel('Nota Total', fontsize = 'large')\n",
        "\n",
        "ax[0].set_title('Possuem Telefone Celular na Residência?', fontsize = '14')\n",
        "ax[1].set_title('Possuem Computador na Residência?', fontsize = '14')\n",
        "ax[2].set_title('Possuem Acesso à Internet?', fontsize = '14')\n",
        "\n",
        "plt.suptitle('Nota Total vs Acesso à Tecnologia', fontsize =  '18')"
      ],
      "execution_count": null,
      "outputs": [
        {
          "output_type": "execute_result",
          "data": {
            "text/plain": [
              "Text(0.5, 0.98, 'Nota Total vs Acesso à Tecnologia')"
            ]
          },
          "metadata": {
            "tags": []
          },
          "execution_count": 145
        },
        {
          "output_type": "display_data",
          "data": {
            "image/png": "[encoded data removed]",
            "text/plain": [
              "<Figure size 1440x504 with 3 Axes>"
            ]
          },
          "metadata": {
            "tags": [],
            "needs_background": "light"
          }
        }
      ]
    },
    {
      "cell_type": "markdown",
      "metadata": {
        "id": "g5CZxY6lxCjd"
      },
      "source": [
        "Os resultados apontam notas mais baixas entre aqueles que não têm acesso às tecnologias de comunicação como o celular e a internet.\n",
        "\n",
        "Em boa parte essa análise reflete aquela feita para as diferentes faixas de renda familiar, uma vez que essas tecnologias têm um custo associado.\n",
        "\n",
        "Sem dúvidas, em 2020 com a pandemia do Covid-19 a educação à distância foi um grande desafio a todos e terá impacto maior nesse grupo que não possui as ferramentas para acompanhar as aulas online, possivelmente tornando a diferença maior nos resultados desse ano."
      ]
    }
  ]
}